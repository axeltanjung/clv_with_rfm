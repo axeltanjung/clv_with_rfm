{
 "cells": [
  {
   "cell_type": "markdown",
   "metadata": {},
   "source": [
    "# CLV based RFM Analysis"
   ]
  },
  {
   "cell_type": "markdown",
   "metadata": {},
   "source": [
    "---\n",
    "\n",
    "**Outline**\n",
    "\n",
    "1. Business Understanding\n",
    "2. Modelling Workflow\n",
    "3. Data Pipelines\n",
    "4. EDA\n",
    "5. Preprocessing\n",
    "6. Clustering\n",
    "7. Business Recommendation"
   ]
  },
  {
   "cell_type": "markdown",
   "metadata": {},
   "source": [
    "## Import Package"
   ]
  },
  {
   "cell_type": "code",
   "execution_count": 1,
   "metadata": {},
   "outputs": [],
   "source": [
    "import numpy as np\n",
    "import pandas as pd \n",
    "\n",
    "import matplotlib.pyplot as plt\n",
    "import seaborn as sns"
   ]
  },
  {
   "cell_type": "markdown",
   "metadata": {},
   "source": [
    "# Case 1: Sales take place once a year"
   ]
  },
  {
   "cell_type": "code",
   "execution_count": 2,
   "metadata": {},
   "outputs": [],
   "source": [
    "def calculate_clv(gross_contribution,\n",
    "                  retention_rate,\n",
    "                  discount_rate,\n",
    "                  num_years,\n",
    "                  promotional_expense):\n",
    "    \"\"\"\n",
    "    Calculate the Customer Lifetime Value (CLV) for each customer.\n",
    "\n",
    "    Parameters:\n",
    "    gross_contribution: float\n",
    "        The gross contribution for each customer\n",
    "    \n",
    "    retention_rate : float\n",
    "        The yearly retention rate\n",
    "    \n",
    "    discount_rate : float\n",
    "        The discount rate for marketing activities\n",
    "    \n",
    "    num_years : int\n",
    "        The period of cash flows projection\n",
    "    \n",
    "    promotional_expenses: float\n",
    "        The promotional expenses per customer per year\n",
    "\n",
    "    Returns:\n",
    "    --------\n",
    "    clv : float\n",
    "        The calculated CLV for the customer.\n",
    "    \"\"\"\n",
    "    # Initiliaze the CLV for the current customer to 0\n",
    "    clv = 0\n",
    "\n",
    "    # Loop over the number of years\n",
    "    for i in range(num_years):\n",
    "        # Add the discounted gross contribution for year i to the clv\n",
    "        clv += gross_contribution * (retention_rate ** i) \\\n",
    "               / ((1 + discount_rate) ** (i - 0.5))\n",
    "\n",
    "        # Substract the discounted promotional expenses for year i from the CLV\n",
    "        # (skip the 1st year because promotional expense start form 2nd year)\n",
    "        if i > 0:\n",
    "            clv -= promotional_expense * (retention_rate ** (i - 1)) \\\n",
    "                    / ((1 + discount_rate) ** (i - 0.5))\n",
    "    \n",
    "    # Return the calculated CLV\n",
    "    return clv"
   ]
  },
  {
   "cell_type": "code",
   "execution_count": 5,
   "metadata": {},
   "outputs": [],
   "source": [
    "clv = calculate_clv(gross_contribution= 250,\n",
    "                    retention_rate=0.75,\n",
    "                    discount_rate=0.2,\n",
    "                    num_years=10,\n",
    "                    promotional_expense=50)"
   ]
  },
  {
   "cell_type": "code",
   "execution_count": 7,
   "metadata": {},
   "outputs": [
    {
     "name": "stdout",
     "output_type": "stream",
     "text": [
      "CLV for customer with constant gross contributionover 10 years is 603.71\n"
     ]
    }
   ],
   "source": [
    "print(f'CLV for customer with constant gross contribution'\n",
    "      f'over 10 years is {np.round(clv,2)}')"
   ]
  },
  {
   "cell_type": "markdown",
   "metadata": {},
   "source": [
    "# Case 2: We Sales occur more frequently than once a year"
   ]
  },
  {
   "cell_type": "code",
   "execution_count": null,
   "metadata": {},
   "outputs": [],
   "source": [
    "def calculate_clv_2(gross_contribution,\n",
    "                    retention_rate,\n",
    "                    discount_rate,\n",
    "                    num_years,\n",
    "                    num_cycles_per_year,\n",
    "                    promotional_expense)\n",
    "    \"\"\"\n",
    "    Calculate the Customer Lifetime Value (CLV) for each customer.\n",
    "\n",
    "    Paramenters:\n",
    "    ------------\n",
    "    gross_contribution: float\n",
    "        The gross contribution for each customer\n",
    "\n",
    "    retention_rate: float\n",
    "        The retention rate per sales cycle\n",
    "    \n",
    "    discount_rate: float\n",
    "        The yearly discount rate for marketing activities\n",
    "\n",
    "    num_years: int\n",
    "        The period of cash flow projection in years\n",
    "\n",
    "    num_cycles_per_year: int\n",
    "        The number of sales cycles per year\n",
    "\n",
    "    promotional_expenses: float\n",
    "        The promotional expenses per customer per sales cycle\n",
    "\n",
    "    Returns:\n",
    "    -----------\n",
    "    clv: float\n",
    "        The calculated CLV for the customers.\n",
    "    \"\"\"\n",
    "    # Calculate the adjusted retention rate and discount rate per cycle\n",
    "    retention_rate_per_cycle = retention_rate ** (1/num_cycles_per_year)\n",
    "\n",
    "    # Initialize the CLV for the current customer to 0\n",
    "    clv = 0\n",
    "\n",
    "    # Loop over the number of years\n",
    "    for i in range(num_years*num_cycles_per_year):\n",
    "        # ADd the discounted gross contribution for year i to the CLV\n",
    "        clv += gross_contribution * (retention_rate ** i) \\\n",
    "            / ((1 + discount_rate) ** (i/num_cycles_per_year))\n",
    "        \n",
    "        # Subtract the discounted promotional expenses for year i from the CLV\n",
    "        # (skip the 1st year because promotional expenses start from the 2nd year)\n",
    "        if i > 0:\n",
    "            clv -= promotional_expense * (retention_rate ** (i - 1)) \\\n",
    "                / ((1 + discount_rate) ** ((i - 0.5)/num_cycles_per_year))\n",
    "        \n",
    "    # Return the calculated CLV\n",
    "    return clv"
   ]
  }
 ],
 "metadata": {
  "kernelspec": {
   "display_name": ".venv_clv",
   "language": "python",
   "name": "python3"
  },
  "language_info": {
   "codemirror_mode": {
    "name": "ipython",
    "version": 3
   },
   "file_extension": ".py",
   "mimetype": "text/x-python",
   "name": "python",
   "nbconvert_exporter": "python",
   "pygments_lexer": "ipython3",
   "version": "3.11.10"
  }
 },
 "nbformat": 4,
 "nbformat_minor": 2
}
