{
 "cells": [
  {
   "cell_type": "markdown",
   "metadata": {},
   "source": [
    "# Predicting Customer Lifetime Value in Retail: Insights from RFM Modelling"
   ]
  },
  {
   "cell_type": "markdown",
   "metadata": {},
   "source": [
    "---\n",
    "\n",
    "**Outline**\n",
    "\n",
    "1. Business Understanding\n",
    "2. Modelling Workflow\n",
    "3. Data Pipelines\n",
    "4. EDA\n",
    "5. Preprocessing\n",
    "6. Clustering\n",
    "7. Business Recommendation"
   ]
  },
  {
   "cell_type": "markdown",
   "metadata": {},
   "source": [
    "## 01. Import Package"
   ]
  },
  {
   "cell_type": "code",
   "execution_count": 5,
   "metadata": {},
   "outputs": [],
   "source": [
    "# Load data manipulation package\n",
    "import numpy as np\n",
    "import pandas as pd\n",
    "\n",
    "# Load data visualization package\n",
    "import matplotlib.pyplot as plt\n",
    "import seaborn as sns"
   ]
  },
  {
   "cell_type": "markdown",
   "metadata": {},
   "source": [
    "# **1. Business Understanding**\n",
    "----\n",
    "Company ZYX wants to create targeted marketing campaigns and also needs to allocate their marketing resources efficiently, but Company ZYX recognizes that not all customers have the same needs, preferences, or purchasing behaviors\n",
    "\n"
   ]
  },
  {
   "cell_type": "markdown",
   "metadata": {},
   "source": [
    "## **1.2 Business Objectives**\n",
    "----\n",
    "- Company ZYX aims to personalize marketing strategies to increase customer retention and maximize revenue with effective marketing spending\n",
    "- The company also wants to identify high-value customers to give them personalized marketing"
   ]
  },
  {
   "cell_type": "markdown",
   "metadata": {},
   "source": [
    "## **1.3 Business Question**\n",
    "---\n",
    "- How can we effectively segment our customer base to better understand customer behavior and implement targeted marketing strategies?\n"
   ]
  },
  {
   "cell_type": "markdown",
   "metadata": {},
   "source": [
    "## **1.4 Define Problem**\n",
    "----\n",
    "- What are the inputs? Purchasing behavior records: recency, frequency, and monetary.\n",
    "- What are the outputs? Customer segments\n",
    "- What do we do with the segmentation? Marketing team will treat each segment based on their characteristics, e.g. create a loyalty coupon"
   ]
  },
  {
   "cell_type": "markdown",
   "metadata": {},
   "source": [
    "## **1.5 Modelling Task**\n",
    "---\n",
    "- **Task:**\n",
    "  - Clustering\n",
    "- **Model used:**\n",
    "  - K-means\n",
    "- **Cluster Evaluation:**\n",
    "  - Elbow method"
   ]
  },
  {
   "cell_type": "markdown",
   "metadata": {},
   "source": [
    "# **2. Modelling Workflow**"
   ]
  },
  {
   "cell_type": "markdown",
   "metadata": {},
   "source": [
    "## **Machine Learning Workflow** (Simplified)\n",
    "---\n",
    "\n",
    "### 1. <font color='blue'> Importing Data to Python</font>\n",
    "    * Data validation\n",
    "### 2. <font color='blue'> Exploratory Data Analysis</font>\n",
    "    * Data exploration\n",
    "### 3. <font color='blue'> Data Preprocessing</font>\n",
    "    * Missing value handling, feature engineering, and normalization\n",
    "### 4. <font color='blue'> Modeling</font>\n",
    "    * Finding best model\n",
    "### 5. <font color='blue'> Recommendation</font>\n",
    "    * Business recommendation and Actionable insights"
   ]
  },
  {
   "cell_type": "markdown",
   "metadata": {},
   "source": [
    "# **3. Importing Data to Python**\n",
    "---"
   ]
  },
  {
   "cell_type": "markdown",
   "metadata": {},
   "source": [
    "## **3.1 Data Description**\n",
    "---"
   ]
  },
  {
   "cell_type": "markdown",
   "metadata": {},
   "source": [
    "The worksheet Raw Data contains these data for a sample of 2357 CDNOW customers who made their first purchase at the web site during the first quarter of 1997.\n",
    "- `Recency`: Recency value in week duration (e.g., Recency 30.43 is second repeat purchase occurring on the third day of the 30th week of 1997)\n",
    "- `Frequency`: How many **repeat purchase** made by customer (e.g., frequency = 0 means the customer made only once purchase, no repeat purchase)\n",
    "- `Monetary`: Monetary value for each customer in USD\n",
    "- `Tenure`: The transaction age of customer --> We don't need this variable for segmentation\n",
    "\n",
    "Adapted from:\n",
    "\n",
    "Implementing the BG/NBD Model for Customer Base Analysis in Excel - Peter Fader, Bruce Hardie, Ka Lok Lee with additional monetary generated data"
   ]
  },
  {
   "cell_type": "markdown",
   "metadata": {},
   "source": [
    "## **3.2 Importing Data**\n",
    "---"
   ]
  },
  {
   "cell_type": "code",
   "execution_count": 76,
   "metadata": {},
   "outputs": [],
   "source": [
    "# read dataset function\n",
    "def read_data(path):\n",
    "    \"\"\"\n",
    "    Reads a CSV file at the given path, removes any duplicate rows,\n",
    "    and returns its contents as a pandas DataFrame.\n",
    "\n",
    "    Parameters\n",
    "    ----------\n",
    "    path : str\n",
    "        input path\n",
    "\n",
    "    Returns\n",
    "    -------\n",
    "    df : pandas Dataframe\n",
    "        Sample dataframe\n",
    "    \"\"\"\n",
    "    # 1. Read data\n",
    "    data = pd.read_csv(path, index_col = 0)\n",
    "\n",
    "    # 2. print data shape\n",
    "    print('Data shape :', data.shape)\n",
    "\n",
    "    return data\n"
   ]
  },
  {
   "cell_type": "code",
   "execution_count": 77,
   "metadata": {},
   "outputs": [
    {
     "name": "stdout",
     "output_type": "stream",
     "text": [
      "Data shape : (300, 3)\n"
     ]
    }
   ],
   "source": [
    "# Read data\n",
    "data = read_data(path = '../dataset/rfm_dataset.csv')"
   ]
  },
  {
   "cell_type": "code",
   "execution_count": 78,
   "metadata": {},
   "outputs": [
    {
     "data": {
      "text/html": [
       "<div>\n",
       "<style scoped>\n",
       "    .dataframe tbody tr th:only-of-type {\n",
       "        vertical-align: middle;\n",
       "    }\n",
       "\n",
       "    .dataframe tbody tr th {\n",
       "        vertical-align: top;\n",
       "    }\n",
       "\n",
       "    .dataframe thead th {\n",
       "        text-align: right;\n",
       "    }\n",
       "</style>\n",
       "<table border=\"1\" class=\"dataframe\">\n",
       "  <thead>\n",
       "    <tr style=\"text-align: right;\">\n",
       "      <th></th>\n",
       "      <th>monetary_purchase_amt</th>\n",
       "      <th>frequency_purchase</th>\n",
       "      <th>recency_of_purchase</th>\n",
       "    </tr>\n",
       "    <tr>\n",
       "      <th>customer_id</th>\n",
       "      <th></th>\n",
       "      <th></th>\n",
       "      <th></th>\n",
       "    </tr>\n",
       "  </thead>\n",
       "  <tbody>\n",
       "    <tr>\n",
       "      <th>1</th>\n",
       "      <td>3.097321</td>\n",
       "      <td>18.795885</td>\n",
       "      <td>15.108402</td>\n",
       "    </tr>\n",
       "    <tr>\n",
       "      <th>2</th>\n",
       "      <td>8.759256</td>\n",
       "      <td>21.893389</td>\n",
       "      <td>13.801586</td>\n",
       "    </tr>\n",
       "    <tr>\n",
       "      <th>3</th>\n",
       "      <td>16.634326</td>\n",
       "      <td>4.270323</td>\n",
       "      <td>23.046506</td>\n",
       "    </tr>\n",
       "    <tr>\n",
       "      <th>4</th>\n",
       "      <td>10.934102</td>\n",
       "      <td>22.335917</td>\n",
       "      <td>15.445987</td>\n",
       "    </tr>\n",
       "    <tr>\n",
       "      <th>5</th>\n",
       "      <td>13.832831</td>\n",
       "      <td>22.255416</td>\n",
       "      <td>16.896821</td>\n",
       "    </tr>\n",
       "  </tbody>\n",
       "</table>\n",
       "</div>"
      ],
      "text/plain": [
       "             monetary_purchase_amt  frequency_purchase  recency_of_purchase\n",
       "customer_id                                                                \n",
       "1                         3.097321           18.795885            15.108402\n",
       "2                         8.759256           21.893389            13.801586\n",
       "3                        16.634326            4.270323            23.046506\n",
       "4                        10.934102           22.335917            15.445987\n",
       "5                        13.832831           22.255416            16.896821"
      ]
     },
     "execution_count": 78,
     "metadata": {},
     "output_type": "execute_result"
    }
   ],
   "source": [
    "data.head()"
   ]
  },
  {
   "cell_type": "markdown",
   "metadata": {},
   "source": [
    "Then, we check the data type"
   ]
  },
  {
   "cell_type": "code",
   "execution_count": 79,
   "metadata": {},
   "outputs": [],
   "source": [
    "# check data type\n",
    "data.dtypes\n",
    "data = data.reset_index()\n",
    "data.rename(columns={'monetary_purchase_amt':'Monetary', 'frequency_purchase':\"Frequency\", 'recency_of_purchase':\"Recency\"}, inplace=True)"
   ]
  },
  {
   "cell_type": "markdown",
   "metadata": {},
   "source": [
    "The data type each columns is correct"
   ]
  },
  {
   "cell_type": "markdown",
   "metadata": {},
   "source": [
    "# **4. Exploratory Data Analysis**\n",
    "---"
   ]
  },
  {
   "cell_type": "code",
   "execution_count": 80,
   "metadata": {},
   "outputs": [
    {
     "name": "stdout",
     "output_type": "stream",
     "text": [
      "Original data shape : (300, 4)\n",
      "EDA data shape      : (300, 4)\n"
     ]
    }
   ],
   "source": [
    "# copy data\n",
    "eda_data = data.copy()\n",
    "\n",
    "# validate\n",
    "print('Original data shape :', data.shape)\n",
    "print('EDA data shape      :', eda_data.shape)"
   ]
  },
  {
   "cell_type": "markdown",
   "metadata": {},
   "source": [
    "## **4.1 Check data Description**\n",
    "----"
   ]
  },
  {
   "cell_type": "code",
   "execution_count": 81,
   "metadata": {},
   "outputs": [
    {
     "data": {
      "text/html": [
       "<div>\n",
       "<style scoped>\n",
       "    .dataframe tbody tr th:only-of-type {\n",
       "        vertical-align: middle;\n",
       "    }\n",
       "\n",
       "    .dataframe tbody tr th {\n",
       "        vertical-align: top;\n",
       "    }\n",
       "\n",
       "    .dataframe thead th {\n",
       "        text-align: right;\n",
       "    }\n",
       "</style>\n",
       "<table border=\"1\" class=\"dataframe\">\n",
       "  <thead>\n",
       "    <tr style=\"text-align: right;\">\n",
       "      <th></th>\n",
       "      <th>customer_id</th>\n",
       "      <th>Monetary</th>\n",
       "      <th>Frequency</th>\n",
       "      <th>Recency</th>\n",
       "    </tr>\n",
       "  </thead>\n",
       "  <tbody>\n",
       "    <tr>\n",
       "      <th>count</th>\n",
       "      <td>300.000000</td>\n",
       "      <td>300.000000</td>\n",
       "      <td>300.000000</td>\n",
       "      <td>300.000000</td>\n",
       "    </tr>\n",
       "    <tr>\n",
       "      <th>mean</th>\n",
       "      <td>150.500000</td>\n",
       "      <td>11.246826</td>\n",
       "      <td>12.693658</td>\n",
       "      <td>13.343224</td>\n",
       "    </tr>\n",
       "    <tr>\n",
       "      <th>std</th>\n",
       "      <td>86.746758</td>\n",
       "      <td>5.160173</td>\n",
       "      <td>8.332946</td>\n",
       "      <td>6.105275</td>\n",
       "    </tr>\n",
       "    <tr>\n",
       "      <th>min</th>\n",
       "      <td>1.000000</td>\n",
       "      <td>1.000000</td>\n",
       "      <td>1.000000</td>\n",
       "      <td>1.000000</td>\n",
       "    </tr>\n",
       "    <tr>\n",
       "      <th>25%</th>\n",
       "      <td>75.750000</td>\n",
       "      <td>7.044447</td>\n",
       "      <td>4.480629</td>\n",
       "      <td>9.334245</td>\n",
       "    </tr>\n",
       "    <tr>\n",
       "      <th>50%</th>\n",
       "      <td>150.500000</td>\n",
       "      <td>12.571806</td>\n",
       "      <td>12.836128</td>\n",
       "      <td>14.369357</td>\n",
       "    </tr>\n",
       "    <tr>\n",
       "      <th>75%</th>\n",
       "      <td>225.250000</td>\n",
       "      <td>15.637317</td>\n",
       "      <td>20.965817</td>\n",
       "      <td>18.259287</td>\n",
       "    </tr>\n",
       "    <tr>\n",
       "      <th>max</th>\n",
       "      <td>300.000000</td>\n",
       "      <td>19.283131</td>\n",
       "      <td>23.550300</td>\n",
       "      <td>23.046506</td>\n",
       "    </tr>\n",
       "  </tbody>\n",
       "</table>\n",
       "</div>"
      ],
      "text/plain": [
       "       customer_id    Monetary   Frequency     Recency\n",
       "count   300.000000  300.000000  300.000000  300.000000\n",
       "mean    150.500000   11.246826   12.693658   13.343224\n",
       "std      86.746758    5.160173    8.332946    6.105275\n",
       "min       1.000000    1.000000    1.000000    1.000000\n",
       "25%      75.750000    7.044447    4.480629    9.334245\n",
       "50%     150.500000   12.571806   12.836128   14.369357\n",
       "75%     225.250000   15.637317   20.965817   18.259287\n",
       "max     300.000000   19.283131   23.550300   23.046506"
      ]
     },
     "execution_count": 81,
     "metadata": {},
     "output_type": "execute_result"
    }
   ],
   "source": [
    "eda_data.describe()"
   ]
  },
  {
   "cell_type": "code",
   "execution_count": 83,
   "metadata": {},
   "outputs": [],
   "source": [
    "eda_data[\"Frequency\"] = eda_data[\"Frequency\"].astype(int)"
   ]
  },
  {
   "cell_type": "code",
   "execution_count": 84,
   "metadata": {},
   "outputs": [
    {
     "data": {
      "text/html": [
       "<div>\n",
       "<style scoped>\n",
       "    .dataframe tbody tr th:only-of-type {\n",
       "        vertical-align: middle;\n",
       "    }\n",
       "\n",
       "    .dataframe tbody tr th {\n",
       "        vertical-align: top;\n",
       "    }\n",
       "\n",
       "    .dataframe thead th {\n",
       "        text-align: right;\n",
       "    }\n",
       "</style>\n",
       "<table border=\"1\" class=\"dataframe\">\n",
       "  <thead>\n",
       "    <tr style=\"text-align: right;\">\n",
       "      <th></th>\n",
       "      <th>customer_id</th>\n",
       "      <th>Monetary</th>\n",
       "      <th>Frequency</th>\n",
       "      <th>Recency</th>\n",
       "    </tr>\n",
       "  </thead>\n",
       "  <tbody>\n",
       "    <tr>\n",
       "      <th>0</th>\n",
       "      <td>1</td>\n",
       "      <td>3.097321</td>\n",
       "      <td>18</td>\n",
       "      <td>15.108402</td>\n",
       "    </tr>\n",
       "    <tr>\n",
       "      <th>1</th>\n",
       "      <td>2</td>\n",
       "      <td>8.759256</td>\n",
       "      <td>21</td>\n",
       "      <td>13.801586</td>\n",
       "    </tr>\n",
       "    <tr>\n",
       "      <th>2</th>\n",
       "      <td>3</td>\n",
       "      <td>16.634326</td>\n",
       "      <td>4</td>\n",
       "      <td>23.046506</td>\n",
       "    </tr>\n",
       "    <tr>\n",
       "      <th>3</th>\n",
       "      <td>4</td>\n",
       "      <td>10.934102</td>\n",
       "      <td>22</td>\n",
       "      <td>15.445987</td>\n",
       "    </tr>\n",
       "    <tr>\n",
       "      <th>4</th>\n",
       "      <td>5</td>\n",
       "      <td>13.832831</td>\n",
       "      <td>22</td>\n",
       "      <td>16.896821</td>\n",
       "    </tr>\n",
       "  </tbody>\n",
       "</table>\n",
       "</div>"
      ],
      "text/plain": [
       "   customer_id   Monetary  Frequency    Recency\n",
       "0            1   3.097321         18  15.108402\n",
       "1            2   8.759256         21  13.801586\n",
       "2            3  16.634326          4  23.046506\n",
       "3            4  10.934102         22  15.445987\n",
       "4            5  13.832831         22  16.896821"
      ]
     },
     "execution_count": 84,
     "metadata": {},
     "output_type": "execute_result"
    }
   ],
   "source": [
    "eda_data.head()"
   ]
  },
  {
   "cell_type": "markdown",
   "metadata": {},
   "source": [
    "- The Recency, Quantity ,and Price minimum value are positives\n",
    "- There are some potential outliers on the data"
   ]
  },
  {
   "cell_type": "markdown",
   "metadata": {},
   "source": [
    "## **4.2 Check missing values**\n",
    "---"
   ]
  },
  {
   "cell_type": "code",
   "execution_count": 85,
   "metadata": {},
   "outputs": [
    {
     "data": {
      "text/plain": [
       "customer_id    0\n",
       "Monetary       0\n",
       "Frequency      0\n",
       "Recency        0\n",
       "dtype: int64"
      ]
     },
     "execution_count": 85,
     "metadata": {},
     "output_type": "execute_result"
    }
   ],
   "source": [
    "eda_data.isna().sum()"
   ]
  },
  {
   "cell_type": "markdown",
   "metadata": {},
   "source": [
    "No missing values in the data"
   ]
  },
  {
   "cell_type": "markdown",
   "metadata": {},
   "source": [
    "## **4.3 Check Recency Value**\n",
    "----"
   ]
  },
  {
   "cell_type": "code",
   "execution_count": 86,
   "metadata": {},
   "outputs": [
    {
     "data": {
      "text/plain": [
       "count    300.000000\n",
       "mean      13.343224\n",
       "std        6.105275\n",
       "min        1.000000\n",
       "25%        9.334245\n",
       "50%       14.369357\n",
       "75%       18.259287\n",
       "max       23.046506\n",
       "Name: Recency, dtype: float64"
      ]
     },
     "execution_count": 86,
     "metadata": {},
     "output_type": "execute_result"
    }
   ],
   "source": [
    "# stats descriptive\n",
    "eda_data['Recency'].describe()"
   ]
  },
  {
   "cell_type": "code",
   "execution_count": 87,
   "metadata": {},
   "outputs": [
    {
     "data": {
      "text/plain": [
       "Text(0.5, 1.0, 'Recency Distribution')"
      ]
     },
     "execution_count": 87,
     "metadata": {},
     "output_type": "execute_result"
    },
    {
     "data": {
      "image/png": "[encoded data removed]",
      "text/plain": [
       "<Figure size 640x480 with 1 Axes>"
      ]
     },
     "metadata": {},
     "output_type": "display_data"
    }
   ],
   "source": [
    "# check distribution\n",
    "sns.histplot(eda_data['Recency'])\n",
    "plt.title('Recency Distribution')"
   ]
  },
  {
   "cell_type": "markdown",
   "metadata": {},
   "source": [
    "- There're many customers has 0 Recency week, it means last time they purchase is in first week of first quarter of 1997\n",
    "- Few customers recently purchase the product"
   ]
  },
  {
   "cell_type": "markdown",
   "metadata": {},
   "source": [
    "## **4.4 Check Frequency Value**"
   ]
  },
  {
   "cell_type": "code",
   "execution_count": 88,
   "metadata": {},
   "outputs": [
    {
     "data": {
      "text/plain": [
       "count    300.000000\n",
       "mean      12.206667\n",
       "std        8.335199\n",
       "min        1.000000\n",
       "25%        4.000000\n",
       "50%       12.000000\n",
       "75%       20.000000\n",
       "max       23.000000\n",
       "Name: Frequency, dtype: float64"
      ]
     },
     "execution_count": 88,
     "metadata": {},
     "output_type": "execute_result"
    }
   ],
   "source": [
    "# stats descriptive\n",
    "eda_data['Frequency'].describe()"
   ]
  },
  {
   "cell_type": "code",
   "execution_count": 89,
   "metadata": {},
   "outputs": [
    {
     "data": {
      "text/plain": [
       "(0.0, 15.0)"
      ]
     },
     "execution_count": 89,
     "metadata": {},
     "output_type": "execute_result"
    },
    {
     "data": {
      "image/png": "[encoded data removed]",
      "text/plain": [
       "<Figure size 640x480 with 1 Axes>"
      ]
     },
     "metadata": {},
     "output_type": "display_data"
    }
   ],
   "source": [
    "# check distribution\n",
    "sns.histplot(eda_data['Frequency'], bins=150)\n",
    "plt.title('Frequency Distribution')\n",
    "plt.xlim(0,15)"
   ]
  },
  {
   "cell_type": "code",
   "execution_count": 90,
   "metadata": {},
   "outputs": [
    {
     "name": "stdout",
     "output_type": "stream",
     "text": [
      "There are 0 people who has single purchase history\n"
     ]
    }
   ],
   "source": [
    "# check customer with single purchase history\n",
    "print(f\"There are {eda_data[eda_data['Frequency'] == 0].shape[0]} \"\n",
    "      f\"people who has single purchase history\")"
   ]
  },
  {
   "cell_type": "markdown",
   "metadata": {},
   "source": [
    "## **4.5 Check Monetary Value**"
   ]
  },
  {
   "cell_type": "code",
   "execution_count": 91,
   "metadata": {},
   "outputs": [
    {
     "data": {
      "text/plain": [
       "count    300.000000\n",
       "mean      11.246826\n",
       "std        5.160173\n",
       "min        1.000000\n",
       "25%        7.044447\n",
       "50%       12.571806\n",
       "75%       15.637317\n",
       "max       19.283131\n",
       "Name: Monetary, dtype: float64"
      ]
     },
     "execution_count": 91,
     "metadata": {},
     "output_type": "execute_result"
    }
   ],
   "source": [
    "# stats descriptive\n",
    "eda_data['Monetary'].describe()"
   ]
  },
  {
   "cell_type": "code",
   "execution_count": 92,
   "metadata": {},
   "outputs": [
    {
     "data": {
      "text/plain": [
       "Text(0.5, 1.0, 'Monetary Distribution')"
      ]
     },
     "execution_count": 92,
     "metadata": {},
     "output_type": "execute_result"
    },
    {
     "data": {
      "image/png": "[encoded data removed]",
      "text/plain": [
       "<Figure size 640x480 with 1 Axes>"
      ]
     },
     "metadata": {},
     "output_type": "display_data"
    }
   ],
   "source": [
    "# check distribution\n",
    "sns.histplot(eda_data['Monetary'])\n",
    "plt.title('Monetary Distribution')"
   ]
  },
  {
   "cell_type": "markdown",
   "metadata": {},
   "source": [
    "- We have skewed distribution of Monetary\n",
    "- All values are valid in this column"
   ]
  },
  {
   "cell_type": "markdown",
   "metadata": {},
   "source": [
    "## **4.6 Summary**"
   ]
  },
  {
   "cell_type": "markdown",
   "metadata": {},
   "source": [
    "- We don't need to handle missing values\n",
    "- We need to normalize the value before clustering in K-means\n",
    "- We need to drop ID and Tenure for clustering"
   ]
  },
  {
   "cell_type": "markdown",
   "metadata": {},
   "source": [
    "# **5. Preprocessing**\n",
    "----\n",
    "- Drop unused columns\n",
    "- Normalize the data"
   ]
  },
  {
   "cell_type": "markdown",
   "metadata": {},
   "source": [
    "## **5.1 Drop ID and Tenure**\n",
    "---"
   ]
  },
  {
   "cell_type": "code",
   "execution_count": 93,
   "metadata": {},
   "outputs": [],
   "source": [
    "def drop_col(data, columns):\n",
    "    \"\"\"\n",
    "    Function to drop the unused columns\n",
    "\n",
    "    Parameters\n",
    "    ----------\n",
    "    data: pandas Dataframe\n",
    "        raw data before dropping\n",
    "\n",
    "    columns: list\n",
    "        list of columns we want to drop\n",
    "\n",
    "    Returns\n",
    "    -------\n",
    "    clean_data: pandas Dataframe\n",
    "        dataframe with dropped unused columns\n",
    "    \"\"\"\n",
    "    clean_data = data.drop(columns, axis=1)\n",
    "\n",
    "    return clean_data"
   ]
  },
  {
   "cell_type": "code",
   "execution_count": 94,
   "metadata": {},
   "outputs": [],
   "source": [
    "clean_data = drop_col(data = data,\n",
    "                      columns = ['customer_id'])"
   ]
  },
  {
   "cell_type": "code",
   "execution_count": 95,
   "metadata": {},
   "outputs": [
    {
     "data": {
      "text/html": [
       "<div>\n",
       "<style scoped>\n",
       "    .dataframe tbody tr th:only-of-type {\n",
       "        vertical-align: middle;\n",
       "    }\n",
       "\n",
       "    .dataframe tbody tr th {\n",
       "        vertical-align: top;\n",
       "    }\n",
       "\n",
       "    .dataframe thead th {\n",
       "        text-align: right;\n",
       "    }\n",
       "</style>\n",
       "<table border=\"1\" class=\"dataframe\">\n",
       "  <thead>\n",
       "    <tr style=\"text-align: right;\">\n",
       "      <th></th>\n",
       "      <th>Monetary</th>\n",
       "      <th>Frequency</th>\n",
       "      <th>Recency</th>\n",
       "    </tr>\n",
       "  </thead>\n",
       "  <tbody>\n",
       "    <tr>\n",
       "      <th>0</th>\n",
       "      <td>3.097321</td>\n",
       "      <td>18.795885</td>\n",
       "      <td>15.108402</td>\n",
       "    </tr>\n",
       "    <tr>\n",
       "      <th>1</th>\n",
       "      <td>8.759256</td>\n",
       "      <td>21.893389</td>\n",
       "      <td>13.801586</td>\n",
       "    </tr>\n",
       "    <tr>\n",
       "      <th>2</th>\n",
       "      <td>16.634326</td>\n",
       "      <td>4.270323</td>\n",
       "      <td>23.046506</td>\n",
       "    </tr>\n",
       "    <tr>\n",
       "      <th>3</th>\n",
       "      <td>10.934102</td>\n",
       "      <td>22.335917</td>\n",
       "      <td>15.445987</td>\n",
       "    </tr>\n",
       "    <tr>\n",
       "      <th>4</th>\n",
       "      <td>13.832831</td>\n",
       "      <td>22.255416</td>\n",
       "      <td>16.896821</td>\n",
       "    </tr>\n",
       "  </tbody>\n",
       "</table>\n",
       "</div>"
      ],
      "text/plain": [
       "    Monetary  Frequency    Recency\n",
       "0   3.097321  18.795885  15.108402\n",
       "1   8.759256  21.893389  13.801586\n",
       "2  16.634326   4.270323  23.046506\n",
       "3  10.934102  22.335917  15.445987\n",
       "4  13.832831  22.255416  16.896821"
      ]
     },
     "execution_count": 95,
     "metadata": {},
     "output_type": "execute_result"
    }
   ],
   "source": [
    "# check\n",
    "clean_data.head()"
   ]
  },
  {
   "cell_type": "markdown",
   "metadata": {},
   "source": [
    "## **5.2 Normalize Data**"
   ]
  },
  {
   "cell_type": "markdown",
   "metadata": {},
   "source": [
    "Why we need to normalize data in clustering K-Means?\n",
    "- K-Means algorithm uses Euclidean distance that is highly prone to irregularities in the size of various features\n",
    "- Normalize data before K-Means to handle feature size differences and improve clustering accuracy."
   ]
  },
  {
   "cell_type": "code",
   "execution_count": 98,
   "metadata": {},
   "outputs": [],
   "source": [
    "# Fit & transform scaler\n",
    "from sklearn.preprocessing import MinMaxScaler\n",
    "\n",
    "def fit_scaler(data):\n",
    "    \"\"\"\n",
    "    Function to fit a min-max scaler\n",
    "\n",
    "    Parameters\n",
    "    ----------\n",
    "    data : pandas DataFrame\n",
    "        The sample RFM data\n",
    "\n",
    "    Returns\n",
    "    -------\n",
    "    scaler : object\n",
    "        The Min-Max scaler\n",
    "    \"\"\"\n",
    "    # Create & fit scaler\n",
    "    scaler = MinMaxScaler()\n",
    "    scaler.fit(data)\n",
    "\n",
    "    return scaler\n",
    "\n",
    "def transform_scaler(data, scaler):\n",
    "    \"\"\"\n",
    "    Function to fit a min-max scaler\n",
    "\n",
    "    Parameters\n",
    "    ----------\n",
    "    data : pandas DataFrame\n",
    "        The sample RFM data\n",
    "\n",
    "    scaler : object\n",
    "        The Min-Max scaler\n",
    "\n",
    "    Returns\n",
    "    -------\n",
    "    data_clean : object\n",
    "        The clean data\n",
    "    \"\"\"\n",
    "    # Transform scaler\n",
    "    data_clean = pd.DataFrame(scaler.transform(data))\n",
    "    data_clean.index = data.index\n",
    "    data_clean.columns = data.columns\n",
    "\n",
    "    # Validate\n",
    "    print(\"Data shape :\", data.shape)\n",
    "\n",
    "    return data_clean"
   ]
  },
  {
   "cell_type": "code",
   "execution_count": 99,
   "metadata": {},
   "outputs": [
    {
     "name": "stdout",
     "output_type": "stream",
     "text": [
      "Data shape : (300, 3)\n"
     ]
    },
    {
     "data": {
      "text/html": [
       "<div>\n",
       "<style scoped>\n",
       "    .dataframe tbody tr th:only-of-type {\n",
       "        vertical-align: middle;\n",
       "    }\n",
       "\n",
       "    .dataframe tbody tr th {\n",
       "        vertical-align: top;\n",
       "    }\n",
       "\n",
       "    .dataframe thead th {\n",
       "        text-align: right;\n",
       "    }\n",
       "</style>\n",
       "<table border=\"1\" class=\"dataframe\">\n",
       "  <thead>\n",
       "    <tr style=\"text-align: right;\">\n",
       "      <th></th>\n",
       "      <th>Monetary</th>\n",
       "      <th>Frequency</th>\n",
       "      <th>Recency</th>\n",
       "    </tr>\n",
       "  </thead>\n",
       "  <tbody>\n",
       "    <tr>\n",
       "      <th>0</th>\n",
       "      <td>0.114713</td>\n",
       "      <td>0.789164</td>\n",
       "      <td>0.639938</td>\n",
       "    </tr>\n",
       "    <tr>\n",
       "      <th>1</th>\n",
       "      <td>0.424394</td>\n",
       "      <td>0.926524</td>\n",
       "      <td>0.580663</td>\n",
       "    </tr>\n",
       "    <tr>\n",
       "      <th>2</th>\n",
       "      <td>0.855123</td>\n",
       "      <td>0.145023</td>\n",
       "      <td>1.000000</td>\n",
       "    </tr>\n",
       "    <tr>\n",
       "      <th>3</th>\n",
       "      <td>0.543348</td>\n",
       "      <td>0.946148</td>\n",
       "      <td>0.655251</td>\n",
       "    </tr>\n",
       "    <tr>\n",
       "      <th>4</th>\n",
       "      <td>0.701895</td>\n",
       "      <td>0.942578</td>\n",
       "      <td>0.721059</td>\n",
       "    </tr>\n",
       "  </tbody>\n",
       "</table>\n",
       "</div>"
      ],
      "text/plain": [
       "   Monetary  Frequency   Recency\n",
       "0  0.114713   0.789164  0.639938\n",
       "1  0.424394   0.926524  0.580663\n",
       "2  0.855123   0.145023  1.000000\n",
       "3  0.543348   0.946148  0.655251\n",
       "4  0.701895   0.942578  0.721059"
      ]
     },
     "execution_count": 99,
     "metadata": {},
     "output_type": "execute_result"
    }
   ],
   "source": [
    "# Fit a scaler\n",
    "scaler = fit_scaler(data = clean_data)\n",
    "\n",
    "# Transform data\n",
    "scaled_data = transform_scaler(data = clean_data,\n",
    "                               scaler = scaler)\n",
    "\n",
    "scaled_data.head()"
   ]
  },
  {
   "cell_type": "code",
   "execution_count": 100,
   "metadata": {},
   "outputs": [
    {
     "data": {
      "text/html": [
       "<div>\n",
       "<style scoped>\n",
       "    .dataframe tbody tr th:only-of-type {\n",
       "        vertical-align: middle;\n",
       "    }\n",
       "\n",
       "    .dataframe tbody tr th {\n",
       "        vertical-align: top;\n",
       "    }\n",
       "\n",
       "    .dataframe thead th {\n",
       "        text-align: right;\n",
       "    }\n",
       "</style>\n",
       "<table border=\"1\" class=\"dataframe\">\n",
       "  <thead>\n",
       "    <tr style=\"text-align: right;\">\n",
       "      <th></th>\n",
       "      <th>Monetary</th>\n",
       "      <th>Frequency</th>\n",
       "      <th>Recency</th>\n",
       "    </tr>\n",
       "  </thead>\n",
       "  <tbody>\n",
       "    <tr>\n",
       "      <th>count</th>\n",
       "      <td>300.000000</td>\n",
       "      <td>300.000000</td>\n",
       "      <td>300.000000</td>\n",
       "    </tr>\n",
       "    <tr>\n",
       "      <th>mean</th>\n",
       "      <td>0.560452</td>\n",
       "      <td>0.518559</td>\n",
       "      <td>0.559872</td>\n",
       "    </tr>\n",
       "    <tr>\n",
       "      <th>std</th>\n",
       "      <td>0.282237</td>\n",
       "      <td>0.369527</td>\n",
       "      <td>0.276927</td>\n",
       "    </tr>\n",
       "    <tr>\n",
       "      <th>min</th>\n",
       "      <td>0.000000</td>\n",
       "      <td>0.000000</td>\n",
       "      <td>0.000000</td>\n",
       "    </tr>\n",
       "    <tr>\n",
       "      <th>25%</th>\n",
       "      <td>0.330602</td>\n",
       "      <td>0.154350</td>\n",
       "      <td>0.378030</td>\n",
       "    </tr>\n",
       "    <tr>\n",
       "      <th>50%</th>\n",
       "      <td>0.632923</td>\n",
       "      <td>0.524877</td>\n",
       "      <td>0.606416</td>\n",
       "    </tr>\n",
       "    <tr>\n",
       "      <th>75%</th>\n",
       "      <td>0.800591</td>\n",
       "      <td>0.885390</td>\n",
       "      <td>0.782858</td>\n",
       "    </tr>\n",
       "    <tr>\n",
       "      <th>max</th>\n",
       "      <td>1.000000</td>\n",
       "      <td>1.000000</td>\n",
       "      <td>1.000000</td>\n",
       "    </tr>\n",
       "  </tbody>\n",
       "</table>\n",
       "</div>"
      ],
      "text/plain": [
       "         Monetary   Frequency     Recency\n",
       "count  300.000000  300.000000  300.000000\n",
       "mean     0.560452    0.518559    0.559872\n",
       "std      0.282237    0.369527    0.276927\n",
       "min      0.000000    0.000000    0.000000\n",
       "25%      0.330602    0.154350    0.378030\n",
       "50%      0.632923    0.524877    0.606416\n",
       "75%      0.800591    0.885390    0.782858\n",
       "max      1.000000    1.000000    1.000000"
      ]
     },
     "execution_count": 100,
     "metadata": {},
     "output_type": "execute_result"
    }
   ],
   "source": [
    "# check the result of minmaxscaler\n",
    "scaled_data.describe()"
   ]
  },
  {
   "cell_type": "markdown",
   "metadata": {},
   "source": [
    "- The min value is 0\n",
    "- The max value is 1\n",
    "- Minmax scaler works well because the value fall within [0,1]"
   ]
  },
  {
   "cell_type": "markdown",
   "metadata": {},
   "source": [
    "# **6. K-means Clustering**"
   ]
  },
  {
   "cell_type": "markdown",
   "metadata": {},
   "source": [
    "## **6.1 Elbow Method**"
   ]
  },
  {
   "cell_type": "code",
   "execution_count": 101,
   "metadata": {},
   "outputs": [],
   "source": [
    "# Import package\n",
    "from sklearn.cluster import KMeans"
   ]
  },
  {
   "cell_type": "code",
   "execution_count": 102,
   "metadata": {},
   "outputs": [
    {
     "data": {
      "text/html": [
       "<div>\n",
       "<style scoped>\n",
       "    .dataframe tbody tr th:only-of-type {\n",
       "        vertical-align: middle;\n",
       "    }\n",
       "\n",
       "    .dataframe tbody tr th {\n",
       "        vertical-align: top;\n",
       "    }\n",
       "\n",
       "    .dataframe thead th {\n",
       "        text-align: right;\n",
       "    }\n",
       "</style>\n",
       "<table border=\"1\" class=\"dataframe\">\n",
       "  <thead>\n",
       "    <tr style=\"text-align: right;\">\n",
       "      <th></th>\n",
       "      <th>Monetary</th>\n",
       "      <th>Frequency</th>\n",
       "      <th>Recency</th>\n",
       "    </tr>\n",
       "  </thead>\n",
       "  <tbody>\n",
       "    <tr>\n",
       "      <th>0</th>\n",
       "      <td>0.114713</td>\n",
       "      <td>0.789164</td>\n",
       "      <td>0.639938</td>\n",
       "    </tr>\n",
       "    <tr>\n",
       "      <th>1</th>\n",
       "      <td>0.424394</td>\n",
       "      <td>0.926524</td>\n",
       "      <td>0.580663</td>\n",
       "    </tr>\n",
       "    <tr>\n",
       "      <th>2</th>\n",
       "      <td>0.855123</td>\n",
       "      <td>0.145023</td>\n",
       "      <td>1.000000</td>\n",
       "    </tr>\n",
       "    <tr>\n",
       "      <th>3</th>\n",
       "      <td>0.543348</td>\n",
       "      <td>0.946148</td>\n",
       "      <td>0.655251</td>\n",
       "    </tr>\n",
       "    <tr>\n",
       "      <th>4</th>\n",
       "      <td>0.701895</td>\n",
       "      <td>0.942578</td>\n",
       "      <td>0.721059</td>\n",
       "    </tr>\n",
       "  </tbody>\n",
       "</table>\n",
       "</div>"
      ],
      "text/plain": [
       "   Monetary  Frequency   Recency\n",
       "0  0.114713   0.789164  0.639938\n",
       "1  0.424394   0.926524  0.580663\n",
       "2  0.855123   0.145023  1.000000\n",
       "3  0.543348   0.946148  0.655251\n",
       "4  0.701895   0.942578  0.721059"
      ]
     },
     "execution_count": 102,
     "metadata": {},
     "output_type": "execute_result"
    }
   ],
   "source": [
    "# check data\n",
    "scaled_data.head()"
   ]
  },
  {
   "cell_type": "code",
   "execution_count": 103,
   "metadata": {},
   "outputs": [
    {
     "data": {
      "text/plain": [
       "array([[0.11471342, 0.78916398, 0.63993823],\n",
       "       [0.42439428, 0.92652378, 0.58066278],\n",
       "       [0.85512301, 0.14502347, 1.        ],\n",
       "       [0.54334794, 0.9461478 , 0.6552506 ],\n",
       "       [0.70189462, 0.94257797, 0.72105853],\n",
       "       [0.52462437, 0.96298165, 0.71179241],\n",
       "       [0.66412224, 0.29365778, 0.20051737],\n",
       "       [0.53229575, 0.95234021, 0.62830219],\n",
       "       [0.74015053, 0.19535433, 0.15216854],\n",
       "       [0.23727399, 0.88138083, 0.5504593 ],\n",
       "       [0.85744832, 0.11527955, 0.85246296],\n",
       "       [0.77908362, 0.05138274, 0.82407113],\n",
       "       [0.51073786, 0.94212982, 0.71867654],\n",
       "       [0.74002563, 0.30382568, 0.22663945],\n",
       "       [0.11259427, 0.8039703 , 0.55302181],\n",
       "       [0.85290661, 0.10597336, 0.80781078],\n",
       "       [0.13155442, 0.83019023, 0.42849376],\n",
       "       [0.50741224, 0.92836984, 0.68526522],\n",
       "       [0.89473192, 0.06738104, 0.9140669 ],\n",
       "       [0.51933857, 0.94004565, 0.69291266],\n",
       "       [0.90656113, 0.08412426, 0.86167171],\n",
       "       [0.75533423, 0.03558057, 0.8570408 ],\n",
       "       [0.54880654, 0.85616848, 0.6270123 ],\n",
       "       [0.69040392, 0.18586093, 0.05068248],\n",
       "       [0.8211733 , 0.21757081, 0.20051089],\n",
       "       [0.79422346, 0.13444933, 0.09334852],\n",
       "       [0.17397315, 0.90621104, 0.43871045],\n",
       "       [0.83165441, 0.15677458, 0.95702901],\n",
       "       [0.57133259, 0.90724954, 0.67261378],\n",
       "       [0.53421837, 0.96863993, 0.63232574],\n",
       "       [0.78295673, 0.1772966 , 0.14181525],\n",
       "       [0.44088048, 0.98599397, 0.63402347],\n",
       "       [0.09793489, 0.82523101, 0.59646502],\n",
       "       [0.34788105, 0.95370917, 0.67349913],\n",
       "       [0.41112132, 0.9303932 , 0.68139191],\n",
       "       [0.90921535, 0.11989815, 0.81415844],\n",
       "       [0.77077039, 0.17567914, 0.12161048],\n",
       "       [0.75333785, 0.2778663 , 0.18592184],\n",
       "       [0.93371607, 0.06701388, 0.8476272 ],\n",
       "       [0.14692414, 0.8112547 , 0.56052677],\n",
       "       [0.49187974, 0.98171907, 0.65754631],\n",
       "       [0.10176021, 0.86319165, 0.63618704],\n",
       "       [0.61097607, 0.87333602, 0.64386428],\n",
       "       [0.7999522 , 0.21289497, 0.10249963],\n",
       "       [0.90734091, 0.06943964, 0.88974164],\n",
       "       [0.91513481, 0.12930433, 0.90620952],\n",
       "       [0.74163791, 0.2388336 , 0.10990615],\n",
       "       [0.49491867, 0.87015347, 0.69103231],\n",
       "       [0.8932961 , 0.09357959, 0.88673143],\n",
       "       [0.69108711, 0.23547176, 0.21654253],\n",
       "       [0.06412378, 0.89300437, 0.56617467],\n",
       "       [0.68563402, 0.20980151, 0.        ],\n",
       "       [0.16563193, 0.87585313, 0.50899275],\n",
       "       [0.84595826, 0.09314126, 0.90114757],\n",
       "       [0.84688071, 0.09882986, 0.94010736],\n",
       "       [0.50071717, 0.92868281, 0.66617402],\n",
       "       [0.78280187, 0.22827314, 0.11559009],\n",
       "       [0.77525463, 0.16256858, 0.07743418],\n",
       "       [0.62589618, 0.90873135, 0.68322857],\n",
       "       [0.71056915, 0.2227315 , 0.08133638],\n",
       "       [0.76851084, 0.22490185, 0.11877473],\n",
       "       [0.18642745, 0.818759  , 0.52470259],\n",
       "       [0.74047884, 0.18241223, 0.19124967],\n",
       "       [0.07444069, 0.78485357, 0.53559019],\n",
       "       [0.46462153, 0.92089239, 0.7745406 ],\n",
       "       [0.74966122, 0.2233043 , 0.12402528],\n",
       "       [0.95417502, 0.06937017, 0.89553245],\n",
       "       [0.94082624, 0.04805148, 0.93002928],\n",
       "       [0.79689263, 0.13902619, 0.88358756],\n",
       "       [0.56534845, 0.91406834, 0.7150697 ],\n",
       "       [0.82698528, 0.07061946, 0.93274347],\n",
       "       [0.14202572, 0.83204338, 0.58239992],\n",
       "       [0.02405685, 0.85273264, 0.58578634],\n",
       "       [0.49144828, 0.90685882, 0.60535147],\n",
       "       [0.62479643, 0.20049425, 0.1795663 ],\n",
       "       [0.91888103, 0.06114123, 0.8837947 ],\n",
       "       [0.91339706, 0.06108946, 0.82149581],\n",
       "       [0.2062308 , 0.8366117 , 0.5074789 ],\n",
       "       [0.81119031, 0.16965135, 0.17813792],\n",
       "       [0.38622097, 0.91608589, 0.67228275],\n",
       "       [0.81133879, 0.10867273, 0.86754041],\n",
       "       [0.51924188, 0.92156659, 0.71348723],\n",
       "       [0.70354974, 0.21267371, 0.14915052],\n",
       "       [0.43259589, 0.93865704, 0.65941482],\n",
       "       [0.50982798, 0.92953159, 0.70707071],\n",
       "       [0.89331748, 0.1742166 , 0.91186793],\n",
       "       [0.69296634, 0.20769488, 0.10006234],\n",
       "       [0.65323041, 0.19096767, 0.20448494],\n",
       "       [0.10140903, 0.86787468, 0.54161106],\n",
       "       [0.53268059, 0.88299048, 0.65880901],\n",
       "       [0.77070019, 0.21189809, 0.10632129],\n",
       "       [0.47355337, 0.95333733, 0.61372043],\n",
       "       [0.42600999, 0.94637673, 0.62534053],\n",
       "       [0.2362829 , 0.83077258, 0.48264038],\n",
       "       [0.74274994, 0.26909962, 0.12018666],\n",
       "       [0.08447371, 0.95640067, 0.553507  ],\n",
       "       [0.91997615, 0.15361607, 0.91480634],\n",
       "       [0.04770789, 0.90862679, 0.58050208],\n",
       "       [0.18631169, 0.86449757, 0.50648033],\n",
       "       [0.44251641, 0.8810843 , 0.66605356],\n",
       "       [0.43065736, 0.8642155 , 0.70640587],\n",
       "       [0.21858345, 0.91293459, 0.52763287],\n",
       "       [0.79689226, 0.11963765, 0.91228401],\n",
       "       [0.4103005 , 0.88533994, 0.64865683],\n",
       "       [0.79967583, 0.2475477 , 0.17532878],\n",
       "       [0.8256178 , 0.14902112, 0.12705972],\n",
       "       [0.78248624, 0.0515859 , 0.83983525],\n",
       "       [0.11344216, 0.87934326, 0.49957894],\n",
       "       [0.73145825, 0.15459408, 0.17739499],\n",
       "       [0.54898814, 0.93249951, 0.58958165],\n",
       "       [0.66084773, 0.13690416, 0.14449998],\n",
       "       [0.27876635, 0.84801459, 0.55578293],\n",
       "       [0.71171626, 0.24006165, 0.09859371],\n",
       "       [0.39682383, 0.89232684, 0.62361013],\n",
       "       [0.80709052, 0.08403692, 0.86543612],\n",
       "       [0.88996907, 0.10020401, 0.8248123 ],\n",
       "       [0.86226897, 0.09898898, 0.86888877],\n",
       "       [0.09954639, 0.85427773, 0.5485422 ],\n",
       "       [0.83073702, 0.07305593, 0.8713581 ],\n",
       "       [0.05713045, 0.8513069 , 0.51651387],\n",
       "       [0.75502511, 0.29564055, 0.1901295 ],\n",
       "       [0.86738079, 0.10436705, 0.82747012],\n",
       "       [0.82742332, 0.07369049, 0.87260036],\n",
       "       [0.86269462, 0.20585154, 0.88102458],\n",
       "       [0.75891807, 0.18744264, 0.10972473],\n",
       "       [0.70477882, 0.1726007 , 0.16933234],\n",
       "       [0.09851296, 0.87910574, 0.51199011],\n",
       "       [0.53800953, 0.92675571, 0.61304575],\n",
       "       [0.21975689, 0.91523084, 0.53952499],\n",
       "       [0.13648059, 0.8940699 , 0.56236112],\n",
       "       [0.24612447, 0.89224211, 0.5386245 ],\n",
       "       [0.65935114, 0.18058155, 0.13733787],\n",
       "       [0.19565288, 0.92695791, 0.48738378],\n",
       "       [0.12995138, 0.74020484, 0.48209389],\n",
       "       [0.46535618, 0.9655515 , 0.67246645],\n",
       "       [0.91231117, 0.11328128, 0.8969949 ],\n",
       "       [0.86712019, 0.02510766, 0.95557449],\n",
       "       [0.86052181, 0.13957286, 0.86191822],\n",
       "       [0.8541015 , 0.17841291, 0.18658684],\n",
       "       [0.44485303, 0.85008529, 0.64929747],\n",
       "       [0.71936258, 0.22681643, 0.14111643],\n",
       "       [0.45397449, 0.92756102, 0.68284416],\n",
       "       [0.73038403, 0.23025521, 0.17832355],\n",
       "       [0.85077629, 0.16782903, 0.09194558],\n",
       "       [0.81850445, 0.21572693, 0.22089136],\n",
       "       [0.14195518, 0.85469953, 0.49977025],\n",
       "       [0.76160755, 0.22126854, 0.11979451],\n",
       "       [0.68241818, 0.23479328, 0.12296777],\n",
       "       [0.80773615, 0.2133726 , 0.17795202],\n",
       "       [0.72758482, 0.2115979 , 0.10154616],\n",
       "       [0.62556706, 0.22070955, 0.1170018 ],\n",
       "       [0.1504284 , 0.87560473, 0.47509894],\n",
       "       [0.46569541, 0.92799155, 0.58276696],\n",
       "       [0.78553651, 0.22606847, 0.18388988],\n",
       "       [0.24764717, 0.80797032, 0.49436506],\n",
       "       [0.81402641, 0.09078569, 0.8960054 ],\n",
       "       [0.68030358, 0.20124097, 0.09042177],\n",
       "       [0.59491412, 0.90637984, 0.63536233],\n",
       "       [0.71803707, 0.19137958, 0.11738541],\n",
       "       [0.06720491, 0.81361177, 0.50176336],\n",
       "       [0.82563932, 0.06405867, 0.93931393],\n",
       "       [0.74167511, 0.17816182, 0.14813129],\n",
       "       [0.70069327, 0.30751504, 0.17577326],\n",
       "       [0.13709957, 0.81684502, 0.52601614],\n",
       "       [0.49661905, 0.89493487, 0.59921477],\n",
       "       [0.12716346, 0.89555244, 0.53231118],\n",
       "       [0.10324876, 0.76224619, 0.47699779],\n",
       "       [0.80621552, 0.22717775, 0.1130692 ],\n",
       "       [0.13192608, 0.80203805, 0.52465936],\n",
       "       [0.79643054, 0.24904452, 0.18391925],\n",
       "       [0.93310584, 0.19426915, 0.86892386],\n",
       "       [0.50360957, 0.9752273 , 0.5966375 ],\n",
       "       [0.41852316, 0.92599153, 0.70304664],\n",
       "       [0.46816131, 0.90206387, 0.63316057],\n",
       "       [0.09086873, 0.83670618, 0.55334854],\n",
       "       [0.7249494 , 0.1905789 , 0.12028675],\n",
       "       [0.72828936, 0.17583425, 0.13244191],\n",
       "       [0.78653536, 0.30654885, 0.19385079],\n",
       "       [0.16346065, 0.82401943, 0.52870377],\n",
       "       [0.86817092, 0.07109355, 0.94234115],\n",
       "       [0.80264566, 0.13904787, 0.84231827],\n",
       "       [0.82649899, 0.05780964, 0.89426501],\n",
       "       [0.83909055, 0.10678627, 0.82863289],\n",
       "       [0.72271554, 0.25552579, 0.17629293],\n",
       "       [0.8363697 , 0.11851657, 0.93567104],\n",
       "       [0.74348358, 0.27635489, 0.08189076],\n",
       "       [0.85218354, 0.01866798, 0.90486864],\n",
       "       [0.73532011, 0.19964052, 0.16165763],\n",
       "       [0.50064077, 0.93434867, 0.6294602 ],\n",
       "       [0.85856112, 0.03202056, 0.91923079],\n",
       "       [0.07875859, 0.81337837, 0.55297087],\n",
       "       [0.86756291, 0.08803503, 0.86066493],\n",
       "       [0.49043037, 0.87035714, 0.70686033],\n",
       "       [0.90976977, 0.16617978, 0.9313922 ],\n",
       "       [0.95287561, 0.06452075, 0.96759197],\n",
       "       [0.87165674, 0.10715539, 0.91525242],\n",
       "       [0.13885159, 0.83248528, 0.57867871],\n",
       "       [0.18446741, 0.79221609, 0.52702939],\n",
       "       [0.50126719, 0.92878624, 0.70501323],\n",
       "       [0.67839877, 0.20966165, 0.19034352],\n",
       "       [0.13635312, 0.82335407, 0.50491323],\n",
       "       [0.76357082, 0.27679259, 0.19053078],\n",
       "       [1.        , 0.11420013, 0.89376565],\n",
       "       [0.88032035, 0.07631664, 0.93796738],\n",
       "       [0.1652953 , 0.81550033, 0.55474853],\n",
       "       [0.1747146 , 0.81289999, 0.57670252],\n",
       "       [0.882956  , 0.10514707, 0.99675086],\n",
       "       [0.78057909, 0.05991048, 0.88387913],\n",
       "       [0.78228196, 0.12528408, 0.89313196],\n",
       "       [0.19255869, 0.90240042, 0.56957378],\n",
       "       [0.45209699, 1.        , 0.69104322],\n",
       "       [0.15081662, 0.8309772 , 0.61904004],\n",
       "       [0.06801122, 0.80779172, 0.5004467 ],\n",
       "       [0.82113993, 0.06877658, 0.85711691],\n",
       "       [0.47521434, 0.89057879, 0.75356765],\n",
       "       [0.54386067, 0.93556655, 0.70683834],\n",
       "       [0.85299944, 0.12587524, 0.14013478],\n",
       "       [0.75733924, 0.21099132, 0.05324314],\n",
       "       [0.14575726, 0.84121441, 0.55980579],\n",
       "       [0.14762541, 0.85380171, 0.50980234],\n",
       "       [0.90089773, 0.11481902, 0.93376467],\n",
       "       [0.38903811, 0.94769407, 0.59640016],\n",
       "       [0.81625033, 0.08134751, 0.88200553],\n",
       "       [0.86623652, 0.05882611, 0.8576441 ],\n",
       "       [0.95200013, 0.        , 0.96233072],\n",
       "       [0.54452626, 0.89601253, 0.66112955],\n",
       "       [0.9542472 , 0.0651495 , 0.86779611],\n",
       "       [0.47481432, 0.92133082, 0.57939733],\n",
       "       [0.4791536 , 0.93309792, 0.73658608],\n",
       "       [0.49957663, 0.91984294, 0.61770719],\n",
       "       [0.85759347, 0.14901714, 0.89404973],\n",
       "       [0.16287676, 0.83256816, 0.58844166],\n",
       "       [0.22594127, 0.84571516, 0.51175423],\n",
       "       [0.50889445, 0.90018506, 0.63884651],\n",
       "       [0.17578712, 0.8134313 , 0.52872558],\n",
       "       [0.74636063, 0.30954866, 0.11035622],\n",
       "       [0.93516405, 0.10104008, 0.93218482],\n",
       "       [0.46549059, 0.94132165, 0.64853078],\n",
       "       [0.73006791, 0.26733252, 0.07469844],\n",
       "       [0.13023452, 0.79888066, 0.53066838],\n",
       "       [0.1608447 , 0.93431853, 0.59033398],\n",
       "       [0.75638387, 0.17076192, 0.12371123],\n",
       "       [0.41324167, 0.89312084, 0.67458209],\n",
       "       [0.87681627, 0.11940041, 0.91077307],\n",
       "       [0.03351971, 0.79758034, 0.46596431],\n",
       "       [0.76625631, 0.20347488, 0.13714582],\n",
       "       [0.20484245, 0.76723138, 0.62019928],\n",
       "       [0.4235133 , 0.8587056 , 0.69322536],\n",
       "       [0.51094836, 0.88865362, 0.68594321],\n",
       "       [0.        , 0.89068745, 0.60734169],\n",
       "       [0.77254808, 0.28277358, 0.09087389],\n",
       "       [0.12133653, 0.85977634, 0.53172564],\n",
       "       [0.87785211, 0.09065488, 0.93542603],\n",
       "       [0.7075764 , 0.17877721, 0.15384121],\n",
       "       [0.83289461, 0.23040022, 0.08982754],\n",
       "       [0.14890973, 0.82110237, 0.57254681],\n",
       "       [0.54123673, 0.93184022, 0.64552158],\n",
       "       [0.88180545, 0.0678353 , 0.91409067],\n",
       "       [0.69762655, 0.23212249, 0.18215591],\n",
       "       [0.79461373, 0.10928188, 0.89293178],\n",
       "       [0.71067103, 0.1364717 , 0.20842938],\n",
       "       [0.45122103, 0.92686058, 0.67161787],\n",
       "       [0.17653031, 0.85608672, 0.69047484],\n",
       "       [0.56789475, 0.85509614, 0.69616984],\n",
       "       [0.77720609, 0.23950824, 0.14607148],\n",
       "       [0.50835643, 0.87699505, 0.60549059],\n",
       "       [0.88278772, 0.03812817, 0.91772238],\n",
       "       [0.46282169, 0.88140876, 0.64679176],\n",
       "       [0.63994887, 0.94500707, 0.63067127],\n",
       "       [0.76395309, 0.25083336, 0.09257571],\n",
       "       [0.72854522, 0.21777572, 0.1703538 ],\n",
       "       [0.48234704, 0.93517941, 0.75510566],\n",
       "       [0.45276965, 0.90273138, 0.65176529],\n",
       "       [0.42821475, 0.9339221 , 0.64230662],\n",
       "       [0.84287661, 0.07570226, 0.91762992],\n",
       "       [0.80907319, 0.12337926, 0.85927157],\n",
       "       [0.13458478, 0.80345468, 0.48809899],\n",
       "       [0.18469136, 0.86361474, 0.56097601],\n",
       "       [0.17992335, 0.76860362, 0.54782364],\n",
       "       [0.96596986, 0.08447702, 0.84917204],\n",
       "       [0.77476821, 0.10416623, 0.92573419],\n",
       "       [0.05448263, 0.87878799, 0.55414654],\n",
       "       [0.71438785, 0.22237863, 0.14759072],\n",
       "       [0.57529186, 0.91567294, 0.74052093],\n",
       "       [0.15494261, 0.85329166, 0.52998494],\n",
       "       [0.50054163, 0.9121332 , 0.65589313],\n",
       "       [0.44526741, 0.90354954, 0.68457646],\n",
       "       [0.12228113, 0.87034515, 0.65381652],\n",
       "       [0.14320395, 0.8181859 , 0.5184872 ],\n",
       "       [0.80250895, 0.11042789, 0.80815482],\n",
       "       [0.16324512, 0.88829427, 0.52768727],\n",
       "       [0.8443171 , 0.09013032, 0.91599064],\n",
       "       [0.48927003, 0.86543627, 0.7213877 ],\n",
       "       [0.03159085, 0.82708765, 0.53397287],\n",
       "       [0.53022102, 0.93824752, 0.66624737],\n",
       "       [0.24083622, 0.88377719, 0.60849697],\n",
       "       [0.77088108, 0.1191975 , 0.82730317],\n",
       "       [0.4322211 , 0.88554129, 0.70037643],\n",
       "       [0.22830301, 0.86618237, 0.50377283],\n",
       "       [0.12576928, 0.84310101, 0.62686188]])"
      ]
     },
     "execution_count": 103,
     "metadata": {},
     "output_type": "execute_result"
    }
   ],
   "source": [
    "np.array(scaled_data)"
   ]
  },
  {
   "cell_type": "code",
   "execution_count": 104,
   "metadata": {},
   "outputs": [],
   "source": [
    "# Set empty list\n",
    "inertia = []\n",
    "\n",
    "# iterate for\n",
    "for k in range(1, 11):\n",
    "    # create\n",
    "    kmeans = KMeans(n_clusters=k, random_state=42, n_init=10)\n",
    "\n",
    "    # fit object\n",
    "    kmeans.fit(scaled_data)\n",
    "\n",
    "    # append results\n",
    "    inertia.append(kmeans.inertia_)\n"
   ]
  },
  {
   "cell_type": "code",
   "execution_count": 105,
   "metadata": {},
   "outputs": [
    {
     "data": {
      "text/plain": [
       "Text(0.5, 1.0, 'Elbow Method Showing the Optimal K')"
      ]
     },
     "execution_count": 105,
     "metadata": {},
     "output_type": "execute_result"
    },
    {
     "data": {
      "image/png": "[encoded data removed]",
      "text/plain": [
       "<Figure size 800x400 with 1 Axes>"
      ]
     },
     "metadata": {},
     "output_type": "display_data"
    }
   ],
   "source": [
    "plt.figure(figsize=(8, 4))\n",
    "\n",
    "# plt.plot(inertia)\n",
    "sns.lineplot(x=range(1, 11), y=inertia, color='#000087',\n",
    "             linewidth = 4, marker='o', markersize=10,\n",
    "             markerfacecolor='red')\n",
    "\n",
    "plt.xlabel('Number of Cluster', fontsize=12)\n",
    "plt.ylabel('Inertia', fontsize=12)\n",
    "plt.title('Elbow Method Showing the Optimal K', fontsize=20)"
   ]
  },
  {
   "cell_type": "markdown",
   "metadata": {},
   "source": [
    "**Review elbow method**\n",
    "\n",
    "---\n",
    "\n",
    "- The optimal number of clusters is the point where adding another cluster does not significantly decrease WCSS\n",
    "- This point can be found by looking for a sharp bend or elbow in the WCSS graph\n",
    "- If so, then adding more clusters does not improve the clustering performance\n",
    "\n",
    "$$\n",
    "\\text{WCSS} = \\sum_{j=1}^{k} \\sum_{i=1}^{n} ||x_{(ij)} - c_{(j)}||^2\n",
    "$$\n",
    "\n",
    "where:\n",
    "- n represents the total number of data points\n",
    "- k represents the total number of clusters\n",
    "- xi represents the ith data point\n",
    "- cj represents the jth cluster centroid\n",
    "\n",
    "\n"
   ]
  },
  {
   "cell_type": "markdown",
   "metadata": {},
   "source": [
    "Elbow method analysis\n",
    "\n",
    "- Based on the Elbow method information, We will cluster our customer into 2 groups\n",
    "- But as business perspective, we have around 3-4 source and budget allocation to give initiative up to 4 groups\n",
    "- We will try to cluster our customer into 4 groups"
   ]
  },
  {
   "cell_type": "markdown",
   "metadata": {},
   "source": [
    "## **6.2 K-means Clustering**"
   ]
  },
  {
   "cell_type": "code",
   "execution_count": 106,
   "metadata": {},
   "outputs": [
    {
     "data": {
      "text/html": [
       "<style>#sk-container-id-1 {\n",
       "  /* Definition of color scheme common for light and dark mode */\n",
       "  --sklearn-color-text: black;\n",
       "  --sklearn-color-line: gray;\n",
       "  /* Definition of color scheme for unfitted estimators */\n",
       "  --sklearn-color-unfitted-level-0: #fff5e6;\n",
       "  --sklearn-color-unfitted-level-1: #f6e4d2;\n",
       "  --sklearn-color-unfitted-level-2: #ffe0b3;\n",
       "  --sklearn-color-unfitted-level-3: chocolate;\n",
       "  /* Definition of color scheme for fitted estimators */\n",
       "  --sklearn-color-fitted-level-0: #f0f8ff;\n",
       "  --sklearn-color-fitted-level-1: #d4ebff;\n",
       "  --sklearn-color-fitted-level-2: #b3dbfd;\n",
       "  --sklearn-color-fitted-level-3: cornflowerblue;\n",
       "\n",
       "  /* Specific color for light theme */\n",
       "  --sklearn-color-text-on-default-background: var(--sg-text-color, var(--theme-code-foreground, var(--jp-content-font-color1, black)));\n",
       "  --sklearn-color-background: var(--sg-background-color, var(--theme-background, var(--jp-layout-color0, white)));\n",
       "  --sklearn-color-border-box: var(--sg-text-color, var(--theme-code-foreground, var(--jp-content-font-color1, black)));\n",
       "  --sklearn-color-icon: #696969;\n",
       "\n",
       "  @media (prefers-color-scheme: dark) {\n",
       "    /* Redefinition of color scheme for dark theme */\n",
       "    --sklearn-color-text-on-default-background: var(--sg-text-color, var(--theme-code-foreground, var(--jp-content-font-color1, white)));\n",
       "    --sklearn-color-background: var(--sg-background-color, var(--theme-background, var(--jp-layout-color0, #111)));\n",
       "    --sklearn-color-border-box: var(--sg-text-color, var(--theme-code-foreground, var(--jp-content-font-color1, white)));\n",
       "    --sklearn-color-icon: #878787;\n",
       "  }\n",
       "}\n",
       "\n",
       "#sk-container-id-1 {\n",
       "  color: var(--sklearn-color-text);\n",
       "}\n",
       "\n",
       "#sk-container-id-1 pre {\n",
       "  padding: 0;\n",
       "}\n",
       "\n",
       "#sk-container-id-1 input.sk-hidden--visually {\n",
       "  border: 0;\n",
       "  clip: rect(1px 1px 1px 1px);\n",
       "  clip: rect(1px, 1px, 1px, 1px);\n",
       "  height: 1px;\n",
       "  margin: -1px;\n",
       "  overflow: hidden;\n",
       "  padding: 0;\n",
       "  position: absolute;\n",
       "  width: 1px;\n",
       "}\n",
       "\n",
       "#sk-container-id-1 div.sk-dashed-wrapped {\n",
       "  border: 1px dashed var(--sklearn-color-line);\n",
       "  margin: 0 0.4em 0.5em 0.4em;\n",
       "  box-sizing: border-box;\n",
       "  padding-bottom: 0.4em;\n",
       "  background-color: var(--sklearn-color-background);\n",
       "}\n",
       "\n",
       "#sk-container-id-1 div.sk-container {\n",
       "  /* jupyter's `normalize.less` sets `[hidden] { display: none; }`\n",
       "     but bootstrap.min.css set `[hidden] { display: none !important; }`\n",
       "     so we also need the `!important` here to be able to override the\n",
       "     default hidden behavior on the sphinx rendered scikit-learn.org.\n",
       "     See: https://github.com/scikit-learn/scikit-learn/issues/21755 */\n",
       "  display: inline-block !important;\n",
       "  position: relative;\n",
       "}\n",
       "\n",
       "#sk-container-id-1 div.sk-text-repr-fallback {\n",
       "  display: none;\n",
       "}\n",
       "\n",
       "div.sk-parallel-item,\n",
       "div.sk-serial,\n",
       "div.sk-item {\n",
       "  /* draw centered vertical line to link estimators */\n",
       "  background-image: linear-gradient(var(--sklearn-color-text-on-default-background), var(--sklearn-color-text-on-default-background));\n",
       "  background-size: 2px 100%;\n",
       "  background-repeat: no-repeat;\n",
       "  background-position: center center;\n",
       "}\n",
       "\n",
       "/* Parallel-specific style estimator block */\n",
       "\n",
       "#sk-container-id-1 div.sk-parallel-item::after {\n",
       "  content: \"\";\n",
       "  width: 100%;\n",
       "  border-bottom: 2px solid var(--sklearn-color-text-on-default-background);\n",
       "  flex-grow: 1;\n",
       "}\n",
       "\n",
       "#sk-container-id-1 div.sk-parallel {\n",
       "  display: flex;\n",
       "  align-items: stretch;\n",
       "  justify-content: center;\n",
       "  background-color: var(--sklearn-color-background);\n",
       "  position: relative;\n",
       "}\n",
       "\n",
       "#sk-container-id-1 div.sk-parallel-item {\n",
       "  display: flex;\n",
       "  flex-direction: column;\n",
       "}\n",
       "\n",
       "#sk-container-id-1 div.sk-parallel-item:first-child::after {\n",
       "  align-self: flex-end;\n",
       "  width: 50%;\n",
       "}\n",
       "\n",
       "#sk-container-id-1 div.sk-parallel-item:last-child::after {\n",
       "  align-self: flex-start;\n",
       "  width: 50%;\n",
       "}\n",
       "\n",
       "#sk-container-id-1 div.sk-parallel-item:only-child::after {\n",
       "  width: 0;\n",
       "}\n",
       "\n",
       "/* Serial-specific style estimator block */\n",
       "\n",
       "#sk-container-id-1 div.sk-serial {\n",
       "  display: flex;\n",
       "  flex-direction: column;\n",
       "  align-items: center;\n",
       "  background-color: var(--sklearn-color-background);\n",
       "  padding-right: 1em;\n",
       "  padding-left: 1em;\n",
       "}\n",
       "\n",
       "\n",
       "/* Toggleable style: style used for estimator/Pipeline/ColumnTransformer box that is\n",
       "clickable and can be expanded/collapsed.\n",
       "- Pipeline and ColumnTransformer use this feature and define the default style\n",
       "- Estimators will overwrite some part of the style using the `sk-estimator` class\n",
       "*/\n",
       "\n",
       "/* Pipeline and ColumnTransformer style (default) */\n",
       "\n",
       "#sk-container-id-1 div.sk-toggleable {\n",
       "  /* Default theme specific background. It is overwritten whether we have a\n",
       "  specific estimator or a Pipeline/ColumnTransformer */\n",
       "  background-color: var(--sklearn-color-background);\n",
       "}\n",
       "\n",
       "/* Toggleable label */\n",
       "#sk-container-id-1 label.sk-toggleable__label {\n",
       "  cursor: pointer;\n",
       "  display: block;\n",
       "  width: 100%;\n",
       "  margin-bottom: 0;\n",
       "  padding: 0.5em;\n",
       "  box-sizing: border-box;\n",
       "  text-align: center;\n",
       "}\n",
       "\n",
       "#sk-container-id-1 label.sk-toggleable__label-arrow:before {\n",
       "  /* Arrow on the left of the label */\n",
       "  content: \"▸\";\n",
       "  float: left;\n",
       "  margin-right: 0.25em;\n",
       "  color: var(--sklearn-color-icon);\n",
       "}\n",
       "\n",
       "#sk-container-id-1 label.sk-toggleable__label-arrow:hover:before {\n",
       "  color: var(--sklearn-color-text);\n",
       "}\n",
       "\n",
       "/* Toggleable content - dropdown */\n",
       "\n",
       "#sk-container-id-1 div.sk-toggleable__content {\n",
       "  max-height: 0;\n",
       "  max-width: 0;\n",
       "  overflow: hidden;\n",
       "  text-align: left;\n",
       "  /* unfitted */\n",
       "  background-color: var(--sklearn-color-unfitted-level-0);\n",
       "}\n",
       "\n",
       "#sk-container-id-1 div.sk-toggleable__content.fitted {\n",
       "  /* fitted */\n",
       "  background-color: var(--sklearn-color-fitted-level-0);\n",
       "}\n",
       "\n",
       "#sk-container-id-1 div.sk-toggleable__content pre {\n",
       "  margin: 0.2em;\n",
       "  border-radius: 0.25em;\n",
       "  color: var(--sklearn-color-text);\n",
       "  /* unfitted */\n",
       "  background-color: var(--sklearn-color-unfitted-level-0);\n",
       "}\n",
       "\n",
       "#sk-container-id-1 div.sk-toggleable__content.fitted pre {\n",
       "  /* unfitted */\n",
       "  background-color: var(--sklearn-color-fitted-level-0);\n",
       "}\n",
       "\n",
       "#sk-container-id-1 input.sk-toggleable__control:checked~div.sk-toggleable__content {\n",
       "  /* Expand drop-down */\n",
       "  max-height: 200px;\n",
       "  max-width: 100%;\n",
       "  overflow: auto;\n",
       "}\n",
       "\n",
       "#sk-container-id-1 input.sk-toggleable__control:checked~label.sk-toggleable__label-arrow:before {\n",
       "  content: \"▾\";\n",
       "}\n",
       "\n",
       "/* Pipeline/ColumnTransformer-specific style */\n",
       "\n",
       "#sk-container-id-1 div.sk-label input.sk-toggleable__control:checked~label.sk-toggleable__label {\n",
       "  color: var(--sklearn-color-text);\n",
       "  background-color: var(--sklearn-color-unfitted-level-2);\n",
       "}\n",
       "\n",
       "#sk-container-id-1 div.sk-label.fitted input.sk-toggleable__control:checked~label.sk-toggleable__label {\n",
       "  background-color: var(--sklearn-color-fitted-level-2);\n",
       "}\n",
       "\n",
       "/* Estimator-specific style */\n",
       "\n",
       "/* Colorize estimator box */\n",
       "#sk-container-id-1 div.sk-estimator input.sk-toggleable__control:checked~label.sk-toggleable__label {\n",
       "  /* unfitted */\n",
       "  background-color: var(--sklearn-color-unfitted-level-2);\n",
       "}\n",
       "\n",
       "#sk-container-id-1 div.sk-estimator.fitted input.sk-toggleable__control:checked~label.sk-toggleable__label {\n",
       "  /* fitted */\n",
       "  background-color: var(--sklearn-color-fitted-level-2);\n",
       "}\n",
       "\n",
       "#sk-container-id-1 div.sk-label label.sk-toggleable__label,\n",
       "#sk-container-id-1 div.sk-label label {\n",
       "  /* The background is the default theme color */\n",
       "  color: var(--sklearn-color-text-on-default-background);\n",
       "}\n",
       "\n",
       "/* On hover, darken the color of the background */\n",
       "#sk-container-id-1 div.sk-label:hover label.sk-toggleable__label {\n",
       "  color: var(--sklearn-color-text);\n",
       "  background-color: var(--sklearn-color-unfitted-level-2);\n",
       "}\n",
       "\n",
       "/* Label box, darken color on hover, fitted */\n",
       "#sk-container-id-1 div.sk-label.fitted:hover label.sk-toggleable__label.fitted {\n",
       "  color: var(--sklearn-color-text);\n",
       "  background-color: var(--sklearn-color-fitted-level-2);\n",
       "}\n",
       "\n",
       "/* Estimator label */\n",
       "\n",
       "#sk-container-id-1 div.sk-label label {\n",
       "  font-family: monospace;\n",
       "  font-weight: bold;\n",
       "  display: inline-block;\n",
       "  line-height: 1.2em;\n",
       "}\n",
       "\n",
       "#sk-container-id-1 div.sk-label-container {\n",
       "  text-align: center;\n",
       "}\n",
       "\n",
       "/* Estimator-specific */\n",
       "#sk-container-id-1 div.sk-estimator {\n",
       "  font-family: monospace;\n",
       "  border: 1px dotted var(--sklearn-color-border-box);\n",
       "  border-radius: 0.25em;\n",
       "  box-sizing: border-box;\n",
       "  margin-bottom: 0.5em;\n",
       "  /* unfitted */\n",
       "  background-color: var(--sklearn-color-unfitted-level-0);\n",
       "}\n",
       "\n",
       "#sk-container-id-1 div.sk-estimator.fitted {\n",
       "  /* fitted */\n",
       "  background-color: var(--sklearn-color-fitted-level-0);\n",
       "}\n",
       "\n",
       "/* on hover */\n",
       "#sk-container-id-1 div.sk-estimator:hover {\n",
       "  /* unfitted */\n",
       "  background-color: var(--sklearn-color-unfitted-level-2);\n",
       "}\n",
       "\n",
       "#sk-container-id-1 div.sk-estimator.fitted:hover {\n",
       "  /* fitted */\n",
       "  background-color: var(--sklearn-color-fitted-level-2);\n",
       "}\n",
       "\n",
       "/* Specification for estimator info (e.g. \"i\" and \"?\") */\n",
       "\n",
       "/* Common style for \"i\" and \"?\" */\n",
       "\n",
       ".sk-estimator-doc-link,\n",
       "a:link.sk-estimator-doc-link,\n",
       "a:visited.sk-estimator-doc-link {\n",
       "  float: right;\n",
       "  font-size: smaller;\n",
       "  line-height: 1em;\n",
       "  font-family: monospace;\n",
       "  background-color: var(--sklearn-color-background);\n",
       "  border-radius: 1em;\n",
       "  height: 1em;\n",
       "  width: 1em;\n",
       "  text-decoration: none !important;\n",
       "  margin-left: 1ex;\n",
       "  /* unfitted */\n",
       "  border: var(--sklearn-color-unfitted-level-1) 1pt solid;\n",
       "  color: var(--sklearn-color-unfitted-level-1);\n",
       "}\n",
       "\n",
       ".sk-estimator-doc-link.fitted,\n",
       "a:link.sk-estimator-doc-link.fitted,\n",
       "a:visited.sk-estimator-doc-link.fitted {\n",
       "  /* fitted */\n",
       "  border: var(--sklearn-color-fitted-level-1) 1pt solid;\n",
       "  color: var(--sklearn-color-fitted-level-1);\n",
       "}\n",
       "\n",
       "/* On hover */\n",
       "div.sk-estimator:hover .sk-estimator-doc-link:hover,\n",
       ".sk-estimator-doc-link:hover,\n",
       "div.sk-label-container:hover .sk-estimator-doc-link:hover,\n",
       ".sk-estimator-doc-link:hover {\n",
       "  /* unfitted */\n",
       "  background-color: var(--sklearn-color-unfitted-level-3);\n",
       "  color: var(--sklearn-color-background);\n",
       "  text-decoration: none;\n",
       "}\n",
       "\n",
       "div.sk-estimator.fitted:hover .sk-estimator-doc-link.fitted:hover,\n",
       ".sk-estimator-doc-link.fitted:hover,\n",
       "div.sk-label-container:hover .sk-estimator-doc-link.fitted:hover,\n",
       ".sk-estimator-doc-link.fitted:hover {\n",
       "  /* fitted */\n",
       "  background-color: var(--sklearn-color-fitted-level-3);\n",
       "  color: var(--sklearn-color-background);\n",
       "  text-decoration: none;\n",
       "}\n",
       "\n",
       "/* Span, style for the box shown on hovering the info icon */\n",
       ".sk-estimator-doc-link span {\n",
       "  display: none;\n",
       "  z-index: 9999;\n",
       "  position: relative;\n",
       "  font-weight: normal;\n",
       "  right: .2ex;\n",
       "  padding: .5ex;\n",
       "  margin: .5ex;\n",
       "  width: min-content;\n",
       "  min-width: 20ex;\n",
       "  max-width: 50ex;\n",
       "  color: var(--sklearn-color-text);\n",
       "  box-shadow: 2pt 2pt 4pt #999;\n",
       "  /* unfitted */\n",
       "  background: var(--sklearn-color-unfitted-level-0);\n",
       "  border: .5pt solid var(--sklearn-color-unfitted-level-3);\n",
       "}\n",
       "\n",
       ".sk-estimator-doc-link.fitted span {\n",
       "  /* fitted */\n",
       "  background: var(--sklearn-color-fitted-level-0);\n",
       "  border: var(--sklearn-color-fitted-level-3);\n",
       "}\n",
       "\n",
       ".sk-estimator-doc-link:hover span {\n",
       "  display: block;\n",
       "}\n",
       "\n",
       "/* \"?\"-specific style due to the `<a>` HTML tag */\n",
       "\n",
       "#sk-container-id-1 a.estimator_doc_link {\n",
       "  float: right;\n",
       "  font-size: 1rem;\n",
       "  line-height: 1em;\n",
       "  font-family: monospace;\n",
       "  background-color: var(--sklearn-color-background);\n",
       "  border-radius: 1rem;\n",
       "  height: 1rem;\n",
       "  width: 1rem;\n",
       "  text-decoration: none;\n",
       "  /* unfitted */\n",
       "  color: var(--sklearn-color-unfitted-level-1);\n",
       "  border: var(--sklearn-color-unfitted-level-1) 1pt solid;\n",
       "}\n",
       "\n",
       "#sk-container-id-1 a.estimator_doc_link.fitted {\n",
       "  /* fitted */\n",
       "  border: var(--sklearn-color-fitted-level-1) 1pt solid;\n",
       "  color: var(--sklearn-color-fitted-level-1);\n",
       "}\n",
       "\n",
       "/* On hover */\n",
       "#sk-container-id-1 a.estimator_doc_link:hover {\n",
       "  /* unfitted */\n",
       "  background-color: var(--sklearn-color-unfitted-level-3);\n",
       "  color: var(--sklearn-color-background);\n",
       "  text-decoration: none;\n",
       "}\n",
       "\n",
       "#sk-container-id-1 a.estimator_doc_link.fitted:hover {\n",
       "  /* fitted */\n",
       "  background-color: var(--sklearn-color-fitted-level-3);\n",
       "}\n",
       "</style><div id=\"sk-container-id-1\" class=\"sk-top-container\"><div class=\"sk-text-repr-fallback\"><pre>KMeans(n_clusters=4, n_init=10, random_state=42)</pre><b>In a Jupyter environment, please rerun this cell to show the HTML representation or trust the notebook. <br />On GitHub, the HTML representation is unable to render, please try loading this page with nbviewer.org.</b></div><div class=\"sk-container\" hidden><div class=\"sk-item\"><div class=\"sk-estimator fitted sk-toggleable\"><input class=\"sk-toggleable__control sk-hidden--visually\" id=\"sk-estimator-id-1\" type=\"checkbox\" checked><label for=\"sk-estimator-id-1\" class=\"sk-toggleable__label fitted sk-toggleable__label-arrow fitted\">&nbsp;&nbsp;KMeans<a class=\"sk-estimator-doc-link fitted\" rel=\"noreferrer\" target=\"_blank\" href=\"https://scikit-learn.org/1.5/modules/generated/sklearn.cluster.KMeans.html\">?<span>Documentation for KMeans</span></a><span class=\"sk-estimator-doc-link fitted\">i<span>Fitted</span></span></label><div class=\"sk-toggleable__content fitted\"><pre>KMeans(n_clusters=4, n_init=10, random_state=42)</pre></div> </div></div></div></div>"
      ],
      "text/plain": [
       "KMeans(n_clusters=4, n_init=10, random_state=42)"
      ]
     },
     "execution_count": 106,
     "metadata": {},
     "output_type": "execute_result"
    }
   ],
   "source": [
    "# Refit best data\n",
    "kmeans_best = KMeans(n_clusters = 4,\n",
    "                     random_state = 42,\n",
    "                     n_init = 10)\n",
    "# fit\n",
    "kmeans_best.fit(scaled_data)"
   ]
  },
  {
   "cell_type": "code",
   "execution_count": 107,
   "metadata": {},
   "outputs": [
    {
     "data": {
      "text/plain": [
       "array([3, 1, 2, 1, 1, 1, 0, 1, 0, 3, 2, 2, 1, 0, 3, 2, 3, 1, 2, 1, 2, 2,\n",
       "       1, 0, 0, 0, 3, 2, 1, 1, 0, 1, 3, 1, 1, 2, 0, 0, 2, 3, 1, 3, 1, 0,\n",
       "       2, 2, 0, 1, 2, 0, 3, 0, 3, 2, 2, 1, 0, 0, 1, 0, 0, 3, 0, 3, 1, 0,\n",
       "       2, 2, 2, 1, 2, 3, 3, 1, 0, 2, 2, 3, 0, 1, 2, 1, 0, 1, 1, 2, 0, 0,\n",
       "       3, 1, 0, 1, 1, 3, 0, 3, 2, 3, 3, 1, 1, 3, 2, 1, 0, 0, 2, 3, 0, 1,\n",
       "       0, 3, 0, 1, 2, 2, 2, 3, 2, 3, 0, 2, 2, 2, 0, 0, 3, 1, 3, 3, 3, 0,\n",
       "       3, 3, 1, 2, 2, 2, 0, 1, 0, 1, 0, 0, 0, 3, 0, 0, 0, 0, 0, 3, 1, 0,\n",
       "       3, 2, 0, 1, 0, 3, 2, 0, 0, 3, 1, 3, 3, 0, 3, 0, 2, 1, 1, 1, 3, 0,\n",
       "       0, 0, 3, 2, 2, 2, 2, 0, 2, 0, 2, 0, 1, 2, 3, 2, 1, 2, 2, 2, 3, 3,\n",
       "       1, 0, 3, 0, 2, 2, 3, 3, 2, 2, 2, 3, 1, 3, 3, 2, 1, 1, 0, 0, 3, 3,\n",
       "       2, 1, 2, 2, 2, 1, 2, 1, 1, 1, 2, 3, 3, 1, 3, 0, 2, 1, 0, 3, 3, 0,\n",
       "       1, 2, 3, 0, 3, 1, 1, 3, 0, 3, 2, 0, 0, 3, 1, 2, 0, 2, 0, 1, 3, 1,\n",
       "       0, 1, 2, 1, 1, 0, 0, 1, 1, 1, 2, 2, 3, 3, 3, 2, 2, 3, 0, 1, 3, 1,\n",
       "       1, 3, 3, 2, 3, 2, 1, 3, 1, 3, 2, 1, 3, 3], dtype=int32)"
      ]
     },
     "execution_count": 107,
     "metadata": {},
     "output_type": "execute_result"
    }
   ],
   "source": [
    "# Predict\n",
    "data_label = kmeans_best.predict(scaled_data)\n",
    "data_label"
   ]
  },
  {
   "cell_type": "code",
   "execution_count": 108,
   "metadata": {},
   "outputs": [],
   "source": [
    "# Get the coordinates of the centroids\n",
    "centroids = kmeans_best.cluster_centers_"
   ]
  },
  {
   "cell_type": "code",
   "execution_count": 109,
   "metadata": {},
   "outputs": [
    {
     "data": {
      "text/html": [
       "<div>\n",
       "<style scoped>\n",
       "    .dataframe tbody tr th:only-of-type {\n",
       "        vertical-align: middle;\n",
       "    }\n",
       "\n",
       "    .dataframe tbody tr th {\n",
       "        vertical-align: top;\n",
       "    }\n",
       "\n",
       "    .dataframe thead th {\n",
       "        text-align: right;\n",
       "    }\n",
       "</style>\n",
       "<table border=\"1\" class=\"dataframe\">\n",
       "  <thead>\n",
       "    <tr style=\"text-align: right;\">\n",
       "      <th></th>\n",
       "      <th>Recency</th>\n",
       "      <th>Frequency</th>\n",
       "      <th>Monetary</th>\n",
       "    </tr>\n",
       "    <tr>\n",
       "      <th>Cluster</th>\n",
       "      <th></th>\n",
       "      <th></th>\n",
       "      <th></th>\n",
       "    </tr>\n",
       "  </thead>\n",
       "  <tbody>\n",
       "    <tr>\n",
       "      <th>0</th>\n",
       "      <td>0.744191</td>\n",
       "      <td>0.216013</td>\n",
       "      <td>0.140225</td>\n",
       "    </tr>\n",
       "    <tr>\n",
       "      <th>1</th>\n",
       "      <td>0.492047</td>\n",
       "      <td>0.918180</td>\n",
       "      <td>0.664579</td>\n",
       "    </tr>\n",
       "    <tr>\n",
       "      <th>2</th>\n",
       "      <td>0.863189</td>\n",
       "      <td>0.094393</td>\n",
       "      <td>0.891900</td>\n",
       "    </tr>\n",
       "    <tr>\n",
       "      <th>3</th>\n",
       "      <td>0.142383</td>\n",
       "      <td>0.845650</td>\n",
       "      <td>0.542783</td>\n",
       "    </tr>\n",
       "  </tbody>\n",
       "</table>\n",
       "</div>"
      ],
      "text/plain": [
       "          Recency  Frequency  Monetary\n",
       "Cluster                               \n",
       "0        0.744191   0.216013  0.140225\n",
       "1        0.492047   0.918180  0.664579\n",
       "2        0.863189   0.094393  0.891900\n",
       "3        0.142383   0.845650  0.542783"
      ]
     },
     "execution_count": 109,
     "metadata": {},
     "output_type": "execute_result"
    }
   ],
   "source": [
    "# create dataframe\n",
    "centroid_df = pd.DataFrame(centroids,\n",
    "                           columns=['Recency',\n",
    "                                    'Frequency',\n",
    "                                    'Monetary']).rename_axis('Cluster',\n",
    "                                                             axis='index')\n",
    "\n",
    "# show dataframe centroid\n",
    "centroid_df"
   ]
  },
  {
   "cell_type": "markdown",
   "metadata": {},
   "source": [
    "- You may get different label assignment each iteration / run\n",
    "- We'll provide centroids information we used as 'guidelines'"
   ]
  },
  {
   "cell_type": "code",
   "execution_count": 110,
   "metadata": {},
   "outputs": [
    {
     "data": {
      "text/html": [
       "<div>\n",
       "<style scoped>\n",
       "    .dataframe tbody tr th:only-of-type {\n",
       "        vertical-align: middle;\n",
       "    }\n",
       "\n",
       "    .dataframe tbody tr th {\n",
       "        vertical-align: top;\n",
       "    }\n",
       "\n",
       "    .dataframe thead th {\n",
       "        text-align: right;\n",
       "    }\n",
       "</style>\n",
       "<table border=\"1\" class=\"dataframe\">\n",
       "  <thead>\n",
       "    <tr style=\"text-align: right;\">\n",
       "      <th></th>\n",
       "      <th>Monetary</th>\n",
       "      <th>Frequency</th>\n",
       "      <th>Recency</th>\n",
       "      <th>label</th>\n",
       "    </tr>\n",
       "  </thead>\n",
       "  <tbody>\n",
       "    <tr>\n",
       "      <th>0</th>\n",
       "      <td>0.114713</td>\n",
       "      <td>0.789164</td>\n",
       "      <td>0.639938</td>\n",
       "      <td>3</td>\n",
       "    </tr>\n",
       "    <tr>\n",
       "      <th>1</th>\n",
       "      <td>0.424394</td>\n",
       "      <td>0.926524</td>\n",
       "      <td>0.580663</td>\n",
       "      <td>1</td>\n",
       "    </tr>\n",
       "    <tr>\n",
       "      <th>2</th>\n",
       "      <td>0.855123</td>\n",
       "      <td>0.145023</td>\n",
       "      <td>1.000000</td>\n",
       "      <td>2</td>\n",
       "    </tr>\n",
       "    <tr>\n",
       "      <th>3</th>\n",
       "      <td>0.543348</td>\n",
       "      <td>0.946148</td>\n",
       "      <td>0.655251</td>\n",
       "      <td>1</td>\n",
       "    </tr>\n",
       "    <tr>\n",
       "      <th>4</th>\n",
       "      <td>0.701895</td>\n",
       "      <td>0.942578</td>\n",
       "      <td>0.721059</td>\n",
       "      <td>1</td>\n",
       "    </tr>\n",
       "  </tbody>\n",
       "</table>\n",
       "</div>"
      ],
      "text/plain": [
       "   Monetary  Frequency   Recency  label\n",
       "0  0.114713   0.789164  0.639938      3\n",
       "1  0.424394   0.926524  0.580663      1\n",
       "2  0.855123   0.145023  1.000000      2\n",
       "3  0.543348   0.946148  0.655251      1\n",
       "4  0.701895   0.942578  0.721059      1"
      ]
     },
     "execution_count": 110,
     "metadata": {},
     "output_type": "execute_result"
    }
   ],
   "source": [
    "# Build data\n",
    "data_cluster = scaled_data.copy()\n",
    "\n",
    "data_cluster['label'] = data_label\n",
    "data_cluster.head()"
   ]
  },
  {
   "cell_type": "markdown",
   "metadata": {},
   "source": [
    "## **6.3 RFM Weights**"
   ]
  },
  {
   "cell_type": "markdown",
   "metadata": {},
   "source": [
    "- Assume we have implemented AHP method\n",
    "- The result of AHP we gain information:\n",
    "\n",
    "```python\n",
    "Recency Frequency Monetary\n",
    "  0.351\t0.041\t0.119\n",
    "```\n",
    "\n",
    "- `Recency` is given the highest weight because recent customer behavior provides valuable insights into their current preferences and engagement levels.\n",
    "- It emphasizes the importance of staying updated with customer needs and trends.\n",
    "\n",
    "<br>\n",
    "\n",
    "- `Frequency` is assigned a relatively higher weight compared to monetary value because customers who interact more frequently with a business tend to be more loyal.\n",
    "- It recognizes the significance of building long-term relationships and fostering customer engagement.\n",
    "\n",
    "<br>\n",
    "\n",
    "- `Monetary` value is given a relatively lower weight because solely focusing on the amount of money spent may not fully capture customer behavior and loyalty."
   ]
  },
  {
   "cell_type": "code",
   "execution_count": 111,
   "metadata": {},
   "outputs": [],
   "source": [
    "weight = [0.351, 0.041, 0.119]"
   ]
  },
  {
   "cell_type": "markdown",
   "metadata": {},
   "source": [
    "We will calculate the CLV values based on Weighted RFM with this formula\n",
    "\n",
    "$$\n",
    "\\text{CLV}_{ci} = R_{ci}W_r + F_{ci}W_f + M_{ci}W_m\n",
    "$$\n",
    "\n",
    "Given:\n",
    "<br>\n",
    "- $\\text{CLV}_{ci} $ = CLV in cluster index i\n",
    "\n",
    "- $R_{ci}$ = Avg Normalized / Standardized recency in cluster index i\n",
    "\n",
    "- $F_{ci}$ = Avg Normalized / Standardized frequency in cluster index i\n",
    "\n",
    "- $M_{ci}$ = Avg Normalized / Standardized monetary in cluster index i\n",
    "\n",
    "- W = weight each of R,F,M"
   ]
  },
  {
   "cell_type": "code",
   "execution_count": 112,
   "metadata": {},
   "outputs": [],
   "source": [
    "def get_cluster_clv(df, weight):\n",
    "  \"\"\"\n",
    "  Function to get clv of each cluster\n",
    "\n",
    "  Parameters\n",
    "  ----------\n",
    "  df: pandas Dataframe\n",
    "      clustered dataframe\n",
    "\n",
    "  weight: list\n",
    "      weight of each RFM variables\n",
    "\n",
    "  Returns\n",
    "  -------\n",
    "  clv_per_cluster: pandas Dataframe\n",
    "      dataframe with clv each cluster\n",
    "  \"\"\"\n",
    "\n",
    "  # group the data\n",
    "  group = df.groupby('label')[['Recency',\n",
    "                               'Frequency',\n",
    "                               'Monetary']].mean()\n",
    "\n",
    "  # calculate clv\n",
    "  group['CLV'] = group['Recency']*weight[0] \\\n",
    "                 + group['Frequency']*weight[1] \\\n",
    "                 + group['Monetary']*weight[2]\n",
    "\n",
    "  return group"
   ]
  },
  {
   "cell_type": "code",
   "execution_count": 113,
   "metadata": {},
   "outputs": [],
   "source": [
    "cluster_clv = get_cluster_clv(df = data_cluster,\n",
    "                              weight = weight)"
   ]
  },
  {
   "cell_type": "code",
   "execution_count": 114,
   "metadata": {},
   "outputs": [
    {
     "data": {
      "text/html": [
       "<div>\n",
       "<style scoped>\n",
       "    .dataframe tbody tr th:only-of-type {\n",
       "        vertical-align: middle;\n",
       "    }\n",
       "\n",
       "    .dataframe tbody tr th {\n",
       "        vertical-align: top;\n",
       "    }\n",
       "\n",
       "    .dataframe thead th {\n",
       "        text-align: right;\n",
       "    }\n",
       "</style>\n",
       "<table border=\"1\" class=\"dataframe\">\n",
       "  <thead>\n",
       "    <tr style=\"text-align: right;\">\n",
       "      <th></th>\n",
       "      <th>Recency</th>\n",
       "      <th>Frequency</th>\n",
       "      <th>Monetary</th>\n",
       "      <th>CLV</th>\n",
       "    </tr>\n",
       "    <tr>\n",
       "      <th>label</th>\n",
       "      <th></th>\n",
       "      <th></th>\n",
       "      <th></th>\n",
       "      <th></th>\n",
       "    </tr>\n",
       "  </thead>\n",
       "  <tbody>\n",
       "    <tr>\n",
       "      <th>0</th>\n",
       "      <td>0.140225</td>\n",
       "      <td>0.216013</td>\n",
       "      <td>0.744191</td>\n",
       "      <td>0.146634</td>\n",
       "    </tr>\n",
       "    <tr>\n",
       "      <th>1</th>\n",
       "      <td>0.664579</td>\n",
       "      <td>0.918180</td>\n",
       "      <td>0.492047</td>\n",
       "      <td>0.329466</td>\n",
       "    </tr>\n",
       "    <tr>\n",
       "      <th>2</th>\n",
       "      <td>0.891900</td>\n",
       "      <td>0.094393</td>\n",
       "      <td>0.863189</td>\n",
       "      <td>0.419647</td>\n",
       "    </tr>\n",
       "    <tr>\n",
       "      <th>3</th>\n",
       "      <td>0.542783</td>\n",
       "      <td>0.845650</td>\n",
       "      <td>0.142383</td>\n",
       "      <td>0.242132</td>\n",
       "    </tr>\n",
       "  </tbody>\n",
       "</table>\n",
       "</div>"
      ],
      "text/plain": [
       "        Recency  Frequency  Monetary       CLV\n",
       "label                                         \n",
       "0      0.140225   0.216013  0.744191  0.146634\n",
       "1      0.664579   0.918180  0.492047  0.329466\n",
       "2      0.891900   0.094393  0.863189  0.419647\n",
       "3      0.542783   0.845650  0.142383  0.242132"
      ]
     },
     "execution_count": 114,
     "metadata": {},
     "output_type": "execute_result"
    }
   ],
   "source": [
    "cluster_clv"
   ]
  },
  {
   "cell_type": "code",
   "execution_count": 115,
   "metadata": {},
   "outputs": [],
   "source": [
    "def rank_customers_by_clv(df):\n",
    "    \"\"\"\n",
    "    Rank customers based on their Customer Lifetime Value (CLV).\n",
    "\n",
    "    Parameters:\n",
    "    -----------\n",
    "    df: pandas DataFrame\n",
    "        dataframecontaining customer data with a 'CLV' column.\n",
    "\n",
    "    Returns:\n",
    "    --------\n",
    "    ranked_df: pandas DataFrame\n",
    "        dataframe with an additional 'Rank' column representing the CLV rank.\n",
    "    \"\"\"\n",
    "    # Sort the dataframe by CLV in descending order\n",
    "    ranked_df = df.sort_values(by='CLV', ascending=False)\n",
    "\n",
    "    # Add a 'Rank' column based on the sorted order\n",
    "    ranked_df['Rank'] = range(1, len(ranked_df) + 1)\n",
    "\n",
    "    return ranked_df\n"
   ]
  },
  {
   "cell_type": "code",
   "execution_count": 116,
   "metadata": {},
   "outputs": [
    {
     "data": {
      "text/html": [
       "<div>\n",
       "<style scoped>\n",
       "    .dataframe tbody tr th:only-of-type {\n",
       "        vertical-align: middle;\n",
       "    }\n",
       "\n",
       "    .dataframe tbody tr th {\n",
       "        vertical-align: top;\n",
       "    }\n",
       "\n",
       "    .dataframe thead th {\n",
       "        text-align: right;\n",
       "    }\n",
       "</style>\n",
       "<table border=\"1\" class=\"dataframe\">\n",
       "  <thead>\n",
       "    <tr style=\"text-align: right;\">\n",
       "      <th></th>\n",
       "      <th>Recency</th>\n",
       "      <th>Frequency</th>\n",
       "      <th>Monetary</th>\n",
       "      <th>CLV</th>\n",
       "      <th>Rank</th>\n",
       "    </tr>\n",
       "    <tr>\n",
       "      <th>label</th>\n",
       "      <th></th>\n",
       "      <th></th>\n",
       "      <th></th>\n",
       "      <th></th>\n",
       "      <th></th>\n",
       "    </tr>\n",
       "  </thead>\n",
       "  <tbody>\n",
       "    <tr>\n",
       "      <th>2</th>\n",
       "      <td>0.891900</td>\n",
       "      <td>0.094393</td>\n",
       "      <td>0.863189</td>\n",
       "      <td>0.419647</td>\n",
       "      <td>1</td>\n",
       "    </tr>\n",
       "    <tr>\n",
       "      <th>1</th>\n",
       "      <td>0.664579</td>\n",
       "      <td>0.918180</td>\n",
       "      <td>0.492047</td>\n",
       "      <td>0.329466</td>\n",
       "      <td>2</td>\n",
       "    </tr>\n",
       "    <tr>\n",
       "      <th>3</th>\n",
       "      <td>0.542783</td>\n",
       "      <td>0.845650</td>\n",
       "      <td>0.142383</td>\n",
       "      <td>0.242132</td>\n",
       "      <td>3</td>\n",
       "    </tr>\n",
       "    <tr>\n",
       "      <th>0</th>\n",
       "      <td>0.140225</td>\n",
       "      <td>0.216013</td>\n",
       "      <td>0.744191</td>\n",
       "      <td>0.146634</td>\n",
       "      <td>4</td>\n",
       "    </tr>\n",
       "  </tbody>\n",
       "</table>\n",
       "</div>"
      ],
      "text/plain": [
       "        Recency  Frequency  Monetary       CLV  Rank\n",
       "label                                               \n",
       "2      0.891900   0.094393  0.863189  0.419647     1\n",
       "1      0.664579   0.918180  0.492047  0.329466     2\n",
       "3      0.542783   0.845650  0.142383  0.242132     3\n",
       "0      0.140225   0.216013  0.744191  0.146634     4"
      ]
     },
     "execution_count": 116,
     "metadata": {},
     "output_type": "execute_result"
    }
   ],
   "source": [
    "ranked_df = rank_customers_by_clv(df = cluster_clv)\n",
    "ranked_df"
   ]
  },
  {
   "cell_type": "code",
   "execution_count": 117,
   "metadata": {},
   "outputs": [],
   "source": [
    "# create segment name\n",
    "ranked_df['Segment'] = np.where(ranked_df['Rank'] == 1, 'Best Customers',\n",
    "                       np.where(ranked_df['Rank'] == 2, 'Potential Customers',\n",
    "                                'At Risk Customers'))"
   ]
  },
  {
   "cell_type": "code",
   "execution_count": 118,
   "metadata": {},
   "outputs": [
    {
     "data": {
      "text/html": [
       "<div>\n",
       "<style scoped>\n",
       "    .dataframe tbody tr th:only-of-type {\n",
       "        vertical-align: middle;\n",
       "    }\n",
       "\n",
       "    .dataframe tbody tr th {\n",
       "        vertical-align: top;\n",
       "    }\n",
       "\n",
       "    .dataframe thead th {\n",
       "        text-align: right;\n",
       "    }\n",
       "</style>\n",
       "<table border=\"1\" class=\"dataframe\">\n",
       "  <thead>\n",
       "    <tr style=\"text-align: right;\">\n",
       "      <th></th>\n",
       "      <th>Recency</th>\n",
       "      <th>Frequency</th>\n",
       "      <th>Monetary</th>\n",
       "      <th>CLV</th>\n",
       "      <th>Rank</th>\n",
       "      <th>Segment</th>\n",
       "    </tr>\n",
       "    <tr>\n",
       "      <th>label</th>\n",
       "      <th></th>\n",
       "      <th></th>\n",
       "      <th></th>\n",
       "      <th></th>\n",
       "      <th></th>\n",
       "      <th></th>\n",
       "    </tr>\n",
       "  </thead>\n",
       "  <tbody>\n",
       "    <tr>\n",
       "      <th>2</th>\n",
       "      <td>0.891900</td>\n",
       "      <td>0.094393</td>\n",
       "      <td>0.863189</td>\n",
       "      <td>0.419647</td>\n",
       "      <td>1</td>\n",
       "      <td>Best Customers</td>\n",
       "    </tr>\n",
       "    <tr>\n",
       "      <th>1</th>\n",
       "      <td>0.664579</td>\n",
       "      <td>0.918180</td>\n",
       "      <td>0.492047</td>\n",
       "      <td>0.329466</td>\n",
       "      <td>2</td>\n",
       "      <td>Potential Customers</td>\n",
       "    </tr>\n",
       "    <tr>\n",
       "      <th>3</th>\n",
       "      <td>0.542783</td>\n",
       "      <td>0.845650</td>\n",
       "      <td>0.142383</td>\n",
       "      <td>0.242132</td>\n",
       "      <td>3</td>\n",
       "      <td>At Risk Customers</td>\n",
       "    </tr>\n",
       "    <tr>\n",
       "      <th>0</th>\n",
       "      <td>0.140225</td>\n",
       "      <td>0.216013</td>\n",
       "      <td>0.744191</td>\n",
       "      <td>0.146634</td>\n",
       "      <td>4</td>\n",
       "      <td>At Risk Customers</td>\n",
       "    </tr>\n",
       "  </tbody>\n",
       "</table>\n",
       "</div>"
      ],
      "text/plain": [
       "        Recency  Frequency  Monetary       CLV  Rank              Segment\n",
       "label                                                                    \n",
       "2      0.891900   0.094393  0.863189  0.419647     1       Best Customers\n",
       "1      0.664579   0.918180  0.492047  0.329466     2  Potential Customers\n",
       "3      0.542783   0.845650  0.142383  0.242132     3    At Risk Customers\n",
       "0      0.140225   0.216013  0.744191  0.146634     4    At Risk Customers"
      ]
     },
     "execution_count": 118,
     "metadata": {},
     "output_type": "execute_result"
    }
   ],
   "source": [
    "ranked_df"
   ]
  },
  {
   "cell_type": "markdown",
   "metadata": {},
   "source": [
    "Summary\n",
    "- Our highest weight is Recency, the recommendation must follow the recency-related recommendation\n",
    "- We have 3 segments (rank 3 and 4 will be 1 group because they have similar CLV value)"
   ]
  },
  {
   "cell_type": "markdown",
   "metadata": {},
   "source": [
    "---\n",
    "Recommendation:\n",
    "\n",
    "`best customers`\n",
    "- We can implement loyalty / membership program to this customer in order to increase receny value by pushing notiffication about cross-selling and upselling promotion\n",
    "- Create personalized marketing:\n",
    "  - Personalized thank-you notes or cards with a handwritten message expressing our appreciation for their continued support\n",
    "  - personalized email: \"As a token of our appreciation, we're offering you an exclusive early access to our upcoming sale event. Be the first to grab your favorite items before anyone else!\"\n",
    "- Spend/allocate most of the marketing budget to give marketing treatment on this group\n",
    "\n",
    "----"
   ]
  },
  {
   "cell_type": "markdown",
   "metadata": {},
   "source": [
    "\n",
    "`potential customers`\n",
    "- We can implement retention strategy such as periodically promotion type:\n",
    "  - It looks like every month / every period, there's a marketing promotion (e.g., 12.12 , Harbolnas , WIB , Black Friday)\n",
    "  - So we can keep our customer recency high (we want to our customer recently purchase time by time)\n",
    "- We can impement pop up nottification:\n",
    "  - For potential customer, they can potentially grab / take our promotion via email and app push notification\n",
    "  - We can send them new product launch, recently view recommendation, and cart abandonment nottification in order to increase the conversion rate\n",
    "- Spend higher budget on this group rather than at risk group\n",
    "\n",
    "-----"
   ]
  },
  {
   "cell_type": "markdown",
   "metadata": {},
   "source": [
    "\n",
    "\n",
    "`at risk customer`\n",
    "- less valuable customer\n",
    "- We can retain them by giving lower price offering / dicount promotion:\n",
    "  - This type of customer aren't loyal customer, so we can attract them by offering lower price sale\n",
    "  - They will be attracted by low price offering (such as discount / cashback)\n",
    "  - But we don't need to spend much money to retain this customer, therefore we need other way of retaining: excelent customer service\n",
    "- We implement excelent customer service:\n",
    "  - Provide prompt and friendly customer support across various channels (phone, email, chat) to address inquiries, concerns, and issues effectively.\n",
    "  - Train customer service representatives to actively listen, empathize, and offer personalized solutions, ensuring a positive customer experience.\n",
    "  - Keep customers engaged through interactive content, surveys, or contests that solicit their feedback and opinions.\n",
    "- Most of these customer more likely to churn, we need to spend the budget wisely, don't spend to much to retain this group of customers"
   ]
  },
  {
   "cell_type": "code",
   "execution_count": null,
   "metadata": {},
   "outputs": [],
   "source": []
  }
 ],
 "metadata": {
  "kernelspec": {
   "display_name": ".venv_cv",
   "language": "python",
   "name": "python3"
  },
  "language_info": {
   "codemirror_mode": {
    "name": "ipython",
    "version": 3
   },
   "file_extension": ".py",
   "mimetype": "text/x-python",
   "name": "python",
   "nbconvert_exporter": "python",
   "pygments_lexer": "ipython3",
   "version": "3.10.0"
  }
 },
 "nbformat": 4,
 "nbformat_minor": 2
}
